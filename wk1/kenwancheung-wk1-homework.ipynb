{
 "cells": [
  {
   "cell_type": "markdown",
   "metadata": {},
   "source": [
    "# Wk 1 - Homework - KenwanCheung\n",
    "\n",
    "Prompt: Use Python Regular Expressions to identify top-10 most frequent causes of failed food inspections in Chicago.  You can download the dataset here: https://data.cityofchicago.org/Health-Human-Services/Food-Inspections/4ijn-s7e5"
   ]
  },
  {
   "cell_type": "code",
   "execution_count": 2,
   "metadata": {
    "collapsed": true
   },
   "outputs": [],
   "source": [
    "import nltk\n",
    "import re\n",
    "import pandas as pd\n",
    "import numpy as np"
   ]
  },
  {
   "cell_type": "code",
   "execution_count": 3,
   "metadata": {
    "collapsed": true
   },
   "outputs": [],
   "source": [
    "# import csv\n",
    "fi = pd.read_csv('../wk1/Food_Inspections.csv')"
   ]
  },
  {
   "cell_type": "code",
   "execution_count": 5,
   "metadata": {},
   "outputs": [
    {
     "data": {
      "text/html": [
       "<div>\n",
       "<style>\n",
       "    .dataframe thead tr:only-child th {\n",
       "        text-align: right;\n",
       "    }\n",
       "\n",
       "    .dataframe thead th {\n",
       "        text-align: left;\n",
       "    }\n",
       "\n",
       "    .dataframe tbody tr th {\n",
       "        vertical-align: top;\n",
       "    }\n",
       "</style>\n",
       "<table border=\"1\" class=\"dataframe\">\n",
       "  <thead>\n",
       "    <tr style=\"text-align: right;\">\n",
       "      <th></th>\n",
       "      <th>Inspection ID</th>\n",
       "      <th>DBA Name</th>\n",
       "      <th>AKA Name</th>\n",
       "      <th>License #</th>\n",
       "      <th>Facility Type</th>\n",
       "      <th>Risk</th>\n",
       "      <th>Address</th>\n",
       "      <th>City</th>\n",
       "      <th>State</th>\n",
       "      <th>Zip</th>\n",
       "      <th>Inspection Date</th>\n",
       "      <th>Inspection Type</th>\n",
       "      <th>Results</th>\n",
       "      <th>Violations</th>\n",
       "      <th>Latitude</th>\n",
       "      <th>Longitude</th>\n",
       "      <th>Location</th>\n",
       "    </tr>\n",
       "  </thead>\n",
       "  <tbody>\n",
       "    <tr>\n",
       "      <th>0</th>\n",
       "      <td>2130049</td>\n",
       "      <td>JOE &amp; THE JUICE ILLINOIS, LLC</td>\n",
       "      <td>JOE &amp; THE JUICE</td>\n",
       "      <td>2564512.0</td>\n",
       "      <td>Restaurant</td>\n",
       "      <td>Risk 2 (Medium)</td>\n",
       "      <td>10 E DELAWARE PL</td>\n",
       "      <td>CHICAGO</td>\n",
       "      <td>IL</td>\n",
       "      <td>60611.0</td>\n",
       "      <td>01/05/2018</td>\n",
       "      <td>License</td>\n",
       "      <td>Pass</td>\n",
       "      <td>NaN</td>\n",
       "      <td>41.899255</td>\n",
       "      <td>-87.627835</td>\n",
       "      <td>(41.89925505559848, -87.62783463799146)</td>\n",
       "    </tr>\n",
       "    <tr>\n",
       "      <th>1</th>\n",
       "      <td>2130022</td>\n",
       "      <td>BOO BAE TEA INC</td>\n",
       "      <td>BOO BAE TEA INC</td>\n",
       "      <td>2570290.0</td>\n",
       "      <td>NaN</td>\n",
       "      <td>Risk 2 (Medium)</td>\n",
       "      <td>1013 W Webster AVE</td>\n",
       "      <td>CHICAGO</td>\n",
       "      <td>IL</td>\n",
       "      <td>60614.0</td>\n",
       "      <td>01/05/2018</td>\n",
       "      <td>License</td>\n",
       "      <td>Not Ready</td>\n",
       "      <td>NaN</td>\n",
       "      <td>41.921620</td>\n",
       "      <td>-87.654051</td>\n",
       "      <td>(41.92161984057171, -87.65405058579164)</td>\n",
       "    </tr>\n",
       "    <tr>\n",
       "      <th>2</th>\n",
       "      <td>2130018</td>\n",
       "      <td>FRESHII</td>\n",
       "      <td>FRESHII</td>\n",
       "      <td>2446395.0</td>\n",
       "      <td>Restaurant</td>\n",
       "      <td>Risk 1 (High)</td>\n",
       "      <td>1166 W MADISON ST</td>\n",
       "      <td>CHICAGO</td>\n",
       "      <td>IL</td>\n",
       "      <td>60607.0</td>\n",
       "      <td>01/05/2018</td>\n",
       "      <td>Canvass</td>\n",
       "      <td>Fail</td>\n",
       "      <td>9. WATER SOURCE: SAFE, HOT &amp; COLD UNDER CITY P...</td>\n",
       "      <td>41.881731</td>\n",
       "      <td>-87.656851</td>\n",
       "      <td>(41.881731324473414, -87.65685079354886)</td>\n",
       "    </tr>\n",
       "    <tr>\n",
       "      <th>3</th>\n",
       "      <td>2129964</td>\n",
       "      <td>LINCOLN PARK PRESCHOOL</td>\n",
       "      <td>LINCOLN PARK PRESCHOOL &amp; KINDERGARTEN</td>\n",
       "      <td>2215624.0</td>\n",
       "      <td>Daycare (2 - 6 Years)</td>\n",
       "      <td>Risk 1 (High)</td>\n",
       "      <td>108 W GERMANIA PL</td>\n",
       "      <td>CHICAGO</td>\n",
       "      <td>IL</td>\n",
       "      <td>60610.0</td>\n",
       "      <td>01/04/2018</td>\n",
       "      <td>License</td>\n",
       "      <td>Pass w/ Conditions</td>\n",
       "      <td>8. SANITIZING RINSE FOR EQUIPMENT AND UTENSILS...</td>\n",
       "      <td>41.910486</td>\n",
       "      <td>-87.631996</td>\n",
       "      <td>(41.91048634702192, -87.63199583676088)</td>\n",
       "    </tr>\n",
       "    <tr>\n",
       "      <th>4</th>\n",
       "      <td>2129963</td>\n",
       "      <td>ORIGINAL STEAM</td>\n",
       "      <td>ORIGINAL STEAM</td>\n",
       "      <td>2574892.0</td>\n",
       "      <td>NaN</td>\n",
       "      <td>Risk 1 (High)</td>\n",
       "      <td>2428 S WALLACE AVE</td>\n",
       "      <td>CHICAGO</td>\n",
       "      <td>IL</td>\n",
       "      <td>60616.0</td>\n",
       "      <td>01/04/2018</td>\n",
       "      <td>License</td>\n",
       "      <td>Not Ready</td>\n",
       "      <td>NaN</td>\n",
       "      <td>41.848386</td>\n",
       "      <td>-87.641960</td>\n",
       "      <td>(41.84838625123219, -87.64196007758322)</td>\n",
       "    </tr>\n",
       "    <tr>\n",
       "      <th>5</th>\n",
       "      <td>2129953</td>\n",
       "      <td>JERK TACO MAN 1</td>\n",
       "      <td>JERK TACO MAN</td>\n",
       "      <td>2529063.0</td>\n",
       "      <td>Restaurant</td>\n",
       "      <td>Risk 1 (High)</td>\n",
       "      <td>4001 W JACKSON BLVD</td>\n",
       "      <td>CHICAGO</td>\n",
       "      <td>IL</td>\n",
       "      <td>60624.0</td>\n",
       "      <td>01/04/2018</td>\n",
       "      <td>Complaint</td>\n",
       "      <td>Fail</td>\n",
       "      <td>3. POTENTIALLY HAZARDOUS FOOD MEETS TEMPERATUR...</td>\n",
       "      <td>41.876976</td>\n",
       "      <td>-87.725666</td>\n",
       "      <td>(41.87697594883604, -87.72566593724505)</td>\n",
       "    </tr>\n",
       "    <tr>\n",
       "      <th>6</th>\n",
       "      <td>2129949</td>\n",
       "      <td>LA CEBOLLITA GRILL #2, INC.</td>\n",
       "      <td>LA CEBOLLITA GRILL</td>\n",
       "      <td>2184654.0</td>\n",
       "      <td>Restaurant</td>\n",
       "      <td>Risk 1 (High)</td>\n",
       "      <td>1807 S ASHLAND AVE</td>\n",
       "      <td>CHICAGO</td>\n",
       "      <td>IL</td>\n",
       "      <td>60608.0</td>\n",
       "      <td>01/04/2018</td>\n",
       "      <td>Canvass</td>\n",
       "      <td>Fail</td>\n",
       "      <td>12. HAND WASHING FACILITIES: WITH SOAP AND SAN...</td>\n",
       "      <td>41.857561</td>\n",
       "      <td>-87.665989</td>\n",
       "      <td>(41.857561185250134, -87.66598939271974)</td>\n",
       "    </tr>\n",
       "    <tr>\n",
       "      <th>7</th>\n",
       "      <td>2129931</td>\n",
       "      <td>CLIFTON GRILL,INC.</td>\n",
       "      <td>CLIFTON GRILL</td>\n",
       "      <td>2164148.0</td>\n",
       "      <td>Restaurant</td>\n",
       "      <td>Risk 1 (High)</td>\n",
       "      <td>6410-12 N CLAREMONT AVE</td>\n",
       "      <td>CHICAGO</td>\n",
       "      <td>IL</td>\n",
       "      <td>60645.0</td>\n",
       "      <td>01/04/2018</td>\n",
       "      <td>Complaint</td>\n",
       "      <td>Pass</td>\n",
       "      <td>35. WALLS, CEILINGS, ATTACHED EQUIPMENT CONSTR...</td>\n",
       "      <td>41.998121</td>\n",
       "      <td>-87.688822</td>\n",
       "      <td>(41.99812088754938, -87.68882213326917)</td>\n",
       "    </tr>\n",
       "    <tr>\n",
       "      <th>8</th>\n",
       "      <td>2129924</td>\n",
       "      <td>BALU SMOOTHIES AND MOOR, LLC</td>\n",
       "      <td>LA FITNESS HEALTH CLUB</td>\n",
       "      <td>2559797.0</td>\n",
       "      <td>Restaurant</td>\n",
       "      <td>Risk 2 (Medium)</td>\n",
       "      <td>55 E RANDOLPH ST</td>\n",
       "      <td>CHICAGO</td>\n",
       "      <td>IL</td>\n",
       "      <td>60601.0</td>\n",
       "      <td>01/04/2018</td>\n",
       "      <td>License</td>\n",
       "      <td>Pass</td>\n",
       "      <td>33. FOOD AND NON-FOOD CONTACT EQUIPMENT UTENSI...</td>\n",
       "      <td>41.884388</td>\n",
       "      <td>-87.625869</td>\n",
       "      <td>(41.8843876187293, -87.62586884949191)</td>\n",
       "    </tr>\n",
       "    <tr>\n",
       "      <th>9</th>\n",
       "      <td>2129920</td>\n",
       "      <td>KEDZIE DISCOUNT MART</td>\n",
       "      <td>KEDZIE DISCOUNT MART</td>\n",
       "      <td>2506863.0</td>\n",
       "      <td>Grocery Store</td>\n",
       "      <td>Risk 3 (Low)</td>\n",
       "      <td>2410 S KEDZIE AVE</td>\n",
       "      <td>CHICAGO</td>\n",
       "      <td>IL</td>\n",
       "      <td>60623.0</td>\n",
       "      <td>01/04/2018</td>\n",
       "      <td>License Re-Inspection</td>\n",
       "      <td>Pass</td>\n",
       "      <td>2. FACILITIES TO MAINTAIN PROPER TEMPERATURE -...</td>\n",
       "      <td>41.847767</td>\n",
       "      <td>-87.705285</td>\n",
       "      <td>(41.84776668182944, -87.70528457405833)</td>\n",
       "    </tr>\n",
       "  </tbody>\n",
       "</table>\n",
       "</div>"
      ],
      "text/plain": [
       "   Inspection ID                       DBA Name  \\\n",
       "0        2130049  JOE & THE JUICE ILLINOIS, LLC   \n",
       "1        2130022                BOO BAE TEA INC   \n",
       "2        2130018                        FRESHII   \n",
       "3        2129964         LINCOLN PARK PRESCHOOL   \n",
       "4        2129963                 ORIGINAL STEAM   \n",
       "5        2129953                JERK TACO MAN 1   \n",
       "6        2129949    LA CEBOLLITA GRILL #2, INC.   \n",
       "7        2129931             CLIFTON GRILL,INC.   \n",
       "8        2129924   BALU SMOOTHIES AND MOOR, LLC   \n",
       "9        2129920           KEDZIE DISCOUNT MART   \n",
       "\n",
       "                                AKA Name  License #          Facility Type  \\\n",
       "0                        JOE & THE JUICE  2564512.0             Restaurant   \n",
       "1                        BOO BAE TEA INC  2570290.0                    NaN   \n",
       "2                                FRESHII  2446395.0             Restaurant   \n",
       "3  LINCOLN PARK PRESCHOOL & KINDERGARTEN  2215624.0  Daycare (2 - 6 Years)   \n",
       "4                         ORIGINAL STEAM  2574892.0                    NaN   \n",
       "5                          JERK TACO MAN  2529063.0             Restaurant   \n",
       "6                     LA CEBOLLITA GRILL  2184654.0             Restaurant   \n",
       "7                          CLIFTON GRILL  2164148.0             Restaurant   \n",
       "8                 LA FITNESS HEALTH CLUB  2559797.0             Restaurant   \n",
       "9                   KEDZIE DISCOUNT MART  2506863.0          Grocery Store   \n",
       "\n",
       "              Risk                   Address     City State      Zip  \\\n",
       "0  Risk 2 (Medium)         10 E DELAWARE PL   CHICAGO    IL  60611.0   \n",
       "1  Risk 2 (Medium)       1013 W Webster AVE   CHICAGO    IL  60614.0   \n",
       "2    Risk 1 (High)        1166 W MADISON ST   CHICAGO    IL  60607.0   \n",
       "3    Risk 1 (High)        108 W GERMANIA PL   CHICAGO    IL  60610.0   \n",
       "4    Risk 1 (High)       2428 S WALLACE AVE   CHICAGO    IL  60616.0   \n",
       "5    Risk 1 (High)      4001 W JACKSON BLVD   CHICAGO    IL  60624.0   \n",
       "6    Risk 1 (High)       1807 S ASHLAND AVE   CHICAGO    IL  60608.0   \n",
       "7    Risk 1 (High)  6410-12 N CLAREMONT AVE   CHICAGO    IL  60645.0   \n",
       "8  Risk 2 (Medium)         55 E RANDOLPH ST   CHICAGO    IL  60601.0   \n",
       "9     Risk 3 (Low)        2410 S KEDZIE AVE   CHICAGO    IL  60623.0   \n",
       "\n",
       "  Inspection Date        Inspection Type             Results  \\\n",
       "0      01/05/2018                License                Pass   \n",
       "1      01/05/2018                License           Not Ready   \n",
       "2      01/05/2018                Canvass                Fail   \n",
       "3      01/04/2018                License  Pass w/ Conditions   \n",
       "4      01/04/2018                License           Not Ready   \n",
       "5      01/04/2018              Complaint                Fail   \n",
       "6      01/04/2018                Canvass                Fail   \n",
       "7      01/04/2018              Complaint                Pass   \n",
       "8      01/04/2018                License                Pass   \n",
       "9      01/04/2018  License Re-Inspection                Pass   \n",
       "\n",
       "                                          Violations   Latitude  Longitude  \\\n",
       "0                                                NaN  41.899255 -87.627835   \n",
       "1                                                NaN  41.921620 -87.654051   \n",
       "2  9. WATER SOURCE: SAFE, HOT & COLD UNDER CITY P...  41.881731 -87.656851   \n",
       "3  8. SANITIZING RINSE FOR EQUIPMENT AND UTENSILS...  41.910486 -87.631996   \n",
       "4                                                NaN  41.848386 -87.641960   \n",
       "5  3. POTENTIALLY HAZARDOUS FOOD MEETS TEMPERATUR...  41.876976 -87.725666   \n",
       "6  12. HAND WASHING FACILITIES: WITH SOAP AND SAN...  41.857561 -87.665989   \n",
       "7  35. WALLS, CEILINGS, ATTACHED EQUIPMENT CONSTR...  41.998121 -87.688822   \n",
       "8  33. FOOD AND NON-FOOD CONTACT EQUIPMENT UTENSI...  41.884388 -87.625869   \n",
       "9  2. FACILITIES TO MAINTAIN PROPER TEMPERATURE -...  41.847767 -87.705285   \n",
       "\n",
       "                                   Location  \n",
       "0   (41.89925505559848, -87.62783463799146)  \n",
       "1   (41.92161984057171, -87.65405058579164)  \n",
       "2  (41.881731324473414, -87.65685079354886)  \n",
       "3   (41.91048634702192, -87.63199583676088)  \n",
       "4   (41.84838625123219, -87.64196007758322)  \n",
       "5   (41.87697594883604, -87.72566593724505)  \n",
       "6  (41.857561185250134, -87.66598939271974)  \n",
       "7   (41.99812088754938, -87.68882213326917)  \n",
       "8    (41.8843876187293, -87.62586884949191)  \n",
       "9   (41.84776668182944, -87.70528457405833)  "
      ]
     },
     "execution_count": 5,
     "metadata": {},
     "output_type": "execute_result"
    }
   ],
   "source": [
    "fi.head(10)"
   ]
  },
  {
   "cell_type": "code",
   "execution_count": 6,
   "metadata": {},
   "outputs": [
    {
     "data": {
      "text/plain": [
       "array(['Business Not Located', 'Fail', 'No Entry', 'Not Ready',\n",
       "       'Out of Business', 'Pass', 'Pass w/ Conditions'], dtype=object)"
      ]
     },
     "execution_count": 6,
     "metadata": {},
     "output_type": "execute_result"
    }
   ],
   "source": [
    "np.unique(fi.Results)"
   ]
  },
  {
   "cell_type": "code",
   "execution_count": 89,
   "metadata": {},
   "outputs": [],
   "source": [
    "# segment into own df\n",
    "fail = fi[fi[\"Results\"] == \"Fail\"].reset_index()\n",
    "fail = fail.Violations"
   ]
  },
  {
   "cell_type": "code",
   "execution_count": 91,
   "metadata": {
    "scrolled": false
   },
   "outputs": [
    {
     "data": {
      "text/plain": [
       "0    9. WATER SOURCE: SAFE, HOT & COLD UNDER CITY P...\n",
       "1    3. POTENTIALLY HAZARDOUS FOOD MEETS TEMPERATUR...\n",
       "2    12. HAND WASHING FACILITIES: WITH SOAP AND SAN...\n",
       "3    18. NO EVIDENCE OF RODENT OR INSECT OUTER OPEN...\n",
       "4    41. PREMISES MAINTAINED FREE OF LITTER, UNNECE...\n",
       "5    16. FOOD PROTECTED DURING STORAGE, PREPARATION...\n",
       "6    33. FOOD AND NON-FOOD CONTACT EQUIPMENT UTENSI...\n",
       "7    2. FACILITIES TO MAINTAIN PROPER TEMPERATURE -...\n",
       "8    13. NO EVIDENCE OF RODENT OR INSECT INFESTATIO...\n",
       "9    18. NO EVIDENCE OF RODENT OR INSECT OUTER OPEN...\n",
       "Name: Violations, dtype: object"
      ]
     },
     "execution_count": 91,
     "metadata": {},
     "output_type": "execute_result"
    }
   ],
   "source": [
    "# check\n",
    "fail.head(10)"
   ]
  },
  {
   "cell_type": "code",
   "execution_count": 93,
   "metadata": {
    "scrolled": true
   },
   "outputs": [
    {
     "data": {
      "text/plain": [
       "'9. WATER SOURCE: SAFE, HOT & COLD UNDER CITY PRESSURE - Comments: OBSERVE NO HOT RUNNING WATER ON THE PREMISES; THAT INCLUDES EXPOSED HAND SINKS IN FRONT & REAR PREP AREAS, 3-COMPARTMENT SINK IN REAR PREP, AND HAND SINKS IN BOTH TOILET ROOMS. INSTRUCTED TO CONTACT PLUMMER TO HAVE HOT WATER RESTORED. CRITICAL VIOLATION 7-38-030. | 29. PREVIOUS MINOR VIOLATION(S) CORRECTED 7-42-090 - Comments: PREVIOUS MINOR VIOLATION NOT CORRECTED FROM INSPECTION REPORT 1989320, DATED 2/17/2017. VIOLATION INCLUDES; #38; NO RUNNING HOT AND COLD WATER TO TOP LOADING SOFT SERVE MACHINE, INSTRUCTED TO PROVIDE,  \\n \\nVIOLATION STILL EXISTS. SERIOUS VIOLATION 7-42-090 | 32. FOOD AND NON-FOOD CONTACT SURFACES PROPERLY DESIGNED, CONSTRUCTED AND MAINTAINED - Comments: MUST DISCONTINUE USING MILK CRATES AS STORAGE RACKS THROUGHOUT FRONT AND REAR PREP AREAS, AND IN THE WALK IN COOLER. INSTALL CORRECT STORAGE RACKS. | 34. FLOORS: CONSTRUCTED PER CODE, CLEANED, GOOD REPAIR, COVING INSTALLED, DUST-LESS CLEANING METHODS USED - Comments: MUST REPAIR COVING ON WALL ACROSS FROM THE EXPOSED HAND SINK  \\nIN THE REAR PREP AREA.'"
      ]
     },
     "execution_count": 93,
     "metadata": {},
     "output_type": "execute_result"
    }
   ],
   "source": [
    "# reading longer strings of reasons\n",
    "fail[0]"
   ]
  },
  {
   "cell_type": "markdown",
   "metadata": {},
   "source": [
    "## Parsing\n",
    "\n",
    "It seems like we need to pull the section past the . and space, which seems to be the automated comment. \n",
    "\n",
    "We should parse that string until the hyphen \"-\""
   ]
  },
  {
   "cell_type": "code",
   "execution_count": 259,
   "metadata": {},
   "outputs": [
    {
     "data": {
      "text/plain": [
       "31545    41. PREMISES MAINTAINED FREE OF LITTER, UNNECE...\n",
       "31546    21. * CERTIFIED FOOD MANAGER ON SITE WHEN POTE...\n",
       "31547    18. NO EVIDENCE OF RODENT OR INSECT OUTER OPEN...\n",
       "31548    41. PREMISES MAINTAINED FREE OF LITTER, UNNECE...\n",
       "31549    34. FLOORS: CONSTRUCTED PER CODE, CLEANED, GOO...\n",
       "Name: Violations, dtype: object"
      ]
     },
     "execution_count": 259,
     "metadata": {},
     "output_type": "execute_result"
    }
   ],
   "source": [
    "fail.tail()"
   ]
  },
  {
   "cell_type": "code",
   "execution_count": 332,
   "metadata": {
    "scrolled": true
   },
   "outputs": [],
   "source": [
    "# test pattern\n",
    "reason_codes = pd.DataFrame(columns = ['reason'])\n",
    "\n",
    "for i in range(0,len(fail)):\n",
    "#     print(i)\n",
    "    test_text = str(fail[i])\n",
    "    m = re.findall(r\"\\d\\.\\s(.*?)\\s-\\sComments:\",test_text)\n",
    "#     print(m)\n",
    "    if len(m) > 0:\n",
    "        reason_codes.loc[i] = m[0]\n",
    "    else:\n",
    "        reason_codes.loc[i] = None"
   ]
  },
  {
   "cell_type": "code",
   "execution_count": 328,
   "metadata": {
    "scrolled": true
   },
   "outputs": [
    {
     "data": {
      "text/html": [
       "<div>\n",
       "<style>\n",
       "    .dataframe thead tr:only-child th {\n",
       "        text-align: right;\n",
       "    }\n",
       "\n",
       "    .dataframe thead th {\n",
       "        text-align: left;\n",
       "    }\n",
       "\n",
       "    .dataframe tbody tr th {\n",
       "        vertical-align: top;\n",
       "    }\n",
       "</style>\n",
       "<table border=\"1\" class=\"dataframe\">\n",
       "  <thead>\n",
       "    <tr style=\"text-align: right;\">\n",
       "      <th></th>\n",
       "      <th>reason</th>\n",
       "    </tr>\n",
       "  </thead>\n",
       "  <tbody>\n",
       "    <tr>\n",
       "      <th>0</th>\n",
       "      <td>WATER SOURCE: SAFE, HOT &amp; COLD UNDER CITY PRES...</td>\n",
       "    </tr>\n",
       "    <tr>\n",
       "      <th>1</th>\n",
       "      <td>POTENTIALLY HAZARDOUS FOOD MEETS TEMPERATURE R...</td>\n",
       "    </tr>\n",
       "    <tr>\n",
       "      <th>2</th>\n",
       "      <td>HAND WASHING FACILITIES: WITH SOAP AND SANITAR...</td>\n",
       "    </tr>\n",
       "    <tr>\n",
       "      <th>3</th>\n",
       "      <td>NO EVIDENCE OF RODENT OR INSECT OUTER OPENINGS...</td>\n",
       "    </tr>\n",
       "    <tr>\n",
       "      <th>4</th>\n",
       "      <td>PREMISES MAINTAINED FREE OF LITTER, UNNECESSAR...</td>\n",
       "    </tr>\n",
       "  </tbody>\n",
       "</table>\n",
       "</div>"
      ],
      "text/plain": [
       "                                              reason\n",
       "0  WATER SOURCE: SAFE, HOT & COLD UNDER CITY PRES...\n",
       "1  POTENTIALLY HAZARDOUS FOOD MEETS TEMPERATURE R...\n",
       "2  HAND WASHING FACILITIES: WITH SOAP AND SANITAR...\n",
       "3  NO EVIDENCE OF RODENT OR INSECT OUTER OPENINGS...\n",
       "4  PREMISES MAINTAINED FREE OF LITTER, UNNECESSAR..."
      ]
     },
     "execution_count": 328,
     "metadata": {},
     "output_type": "execute_result"
    }
   ],
   "source": [
    "reason_codes[0:5]"
   ]
  },
  {
   "cell_type": "code",
   "execution_count": 329,
   "metadata": {
    "scrolled": true
   },
   "outputs": [
    {
     "data": {
      "text/html": [
       "<div>\n",
       "<style>\n",
       "    .dataframe thead tr:only-child th {\n",
       "        text-align: right;\n",
       "    }\n",
       "\n",
       "    .dataframe thead th {\n",
       "        text-align: left;\n",
       "    }\n",
       "\n",
       "    .dataframe tbody tr th {\n",
       "        vertical-align: top;\n",
       "    }\n",
       "</style>\n",
       "<table border=\"1\" class=\"dataframe\">\n",
       "  <thead>\n",
       "    <tr style=\"text-align: right;\">\n",
       "      <th></th>\n",
       "      <th>reason</th>\n",
       "    </tr>\n",
       "  </thead>\n",
       "  <tbody>\n",
       "    <tr>\n",
       "      <th>0</th>\n",
       "      <td>WATER SOURCE: SAFE, HOT &amp; COLD UNDER CITY PRES...</td>\n",
       "    </tr>\n",
       "    <tr>\n",
       "      <th>1</th>\n",
       "      <td>POTENTIALLY HAZARDOUS FOOD MEETS TEMPERATURE R...</td>\n",
       "    </tr>\n",
       "    <tr>\n",
       "      <th>2</th>\n",
       "      <td>HAND WASHING FACILITIES: WITH SOAP AND SANITAR...</td>\n",
       "    </tr>\n",
       "    <tr>\n",
       "      <th>3</th>\n",
       "      <td>NO EVIDENCE OF RODENT OR INSECT OUTER OPENINGS...</td>\n",
       "    </tr>\n",
       "    <tr>\n",
       "      <th>4</th>\n",
       "      <td>PREMISES MAINTAINED FREE OF LITTER, UNNECESSAR...</td>\n",
       "    </tr>\n",
       "    <tr>\n",
       "      <th>5</th>\n",
       "      <td>FOOD PROTECTED DURING STORAGE, PREPARATION, DI...</td>\n",
       "    </tr>\n",
       "    <tr>\n",
       "      <th>6</th>\n",
       "      <td>FOOD AND NON-FOOD CONTACT EQUIPMENT UTENSILS C...</td>\n",
       "    </tr>\n",
       "    <tr>\n",
       "      <th>7</th>\n",
       "      <td>FACILITIES TO MAINTAIN PROPER TEMPERATURE</td>\n",
       "    </tr>\n",
       "    <tr>\n",
       "      <th>8</th>\n",
       "      <td>NO EVIDENCE OF RODENT OR INSECT INFESTATION, N...</td>\n",
       "    </tr>\n",
       "    <tr>\n",
       "      <th>9</th>\n",
       "      <td>NO EVIDENCE OF RODENT OR INSECT OUTER OPENINGS...</td>\n",
       "    </tr>\n",
       "  </tbody>\n",
       "</table>\n",
       "</div>"
      ],
      "text/plain": [
       "                                              reason\n",
       "0  WATER SOURCE: SAFE, HOT & COLD UNDER CITY PRES...\n",
       "1  POTENTIALLY HAZARDOUS FOOD MEETS TEMPERATURE R...\n",
       "2  HAND WASHING FACILITIES: WITH SOAP AND SANITAR...\n",
       "3  NO EVIDENCE OF RODENT OR INSECT OUTER OPENINGS...\n",
       "4  PREMISES MAINTAINED FREE OF LITTER, UNNECESSAR...\n",
       "5  FOOD PROTECTED DURING STORAGE, PREPARATION, DI...\n",
       "6  FOOD AND NON-FOOD CONTACT EQUIPMENT UTENSILS C...\n",
       "7          FACILITIES TO MAINTAIN PROPER TEMPERATURE\n",
       "8  NO EVIDENCE OF RODENT OR INSECT INFESTATION, N...\n",
       "9  NO EVIDENCE OF RODENT OR INSECT OUTER OPENINGS..."
      ]
     },
     "execution_count": 329,
     "metadata": {},
     "output_type": "execute_result"
    }
   ],
   "source": [
    "# remove NAs\n",
    "reason_codes_clean = reason_codes.dropna(axis=0, how='any')\n",
    "reason_codes_clean[0:10]"
   ]
  },
  {
   "cell_type": "markdown",
   "metadata": {},
   "source": [
    "# Now we have a cleaned list of just the reason codes. We should thus find the highest frequency on this list\n",
    "\n",
    "Let's use nltk to get the highest frequency"
   ]
  },
  {
   "cell_type": "code",
   "execution_count": 330,
   "metadata": {
    "scrolled": true
   },
   "outputs": [
    {
     "data": {
      "text/plain": [
       "NO EVIDENCE OF RODENT OR INSECT OUTER OPENINGS PROTECTED/RODENT PROOFED, A WRITTEN LOG SHALL BE MAINTAINED AVAILABLE TO THE INSPECTORS    7541\n",
       "FACILITIES TO MAINTAIN PROPER TEMPERATURE                                                                                                 2012\n",
       "PREVIOUS MINOR VIOLATION(S) CORRECTED 7-42-090                                                                                            1621\n",
       "FOOD PROTECTED DURING STORAGE, PREPARATION, DISPLAY, SERVICE AND TRANSPORTATION                                                           1352\n",
       "ADEQUATE NUMBER, CONVENIENT, ACCESSIBLE, DESIGNED, AND MAINTAINED                                                                         1332\n",
       "POTENTIALLY HAZARDOUS FOOD MEETS TEMPERATURE REQUIREMENT DURING STORAGE, PREPARATION DISPLAY AND SERVICE                                  1206\n",
       "FOOD AND NON-FOOD CONTACT SURFACES PROPERLY DESIGNED, CONSTRUCTED AND MAINTAINED                                                          1050\n",
       "* CERTIFIED FOOD MANAGER ON SITE WHEN POTENTIALLY HAZARDOUS FOODS ARE  PREPARED AND SERVED                                                 936\n",
       "VENTILATION: ROOMS AND EQUIPMENT VENTED AS REQUIRED: PLUMBING: INSTALLED AND MAINTAINED                                                    933\n",
       "OUTSIDE GARBAGE WASTE GREASE AND STORAGE AREA; CLEAN, RODENT PROOF, ALL CONTAINERS COVERED                                                 925\n",
       "Name: reason, dtype: int64"
      ]
     },
     "execution_count": 330,
     "metadata": {},
     "output_type": "execute_result"
    }
   ],
   "source": [
    "reason_freq = reason_codes_clean.reason.value_counts()\n",
    "reason_freq[0:10]"
   ]
  },
  {
   "cell_type": "markdown",
   "metadata": {},
   "source": [
    "# Most common results:\n",
    "\n",
    "The most common reason codes are in the 10 above. The most common reason code above all else seems to be protection from rodents, which is not shocking!"
   ]
  },
  {
   "cell_type": "code",
   "execution_count": null,
   "metadata": {
    "collapsed": true
   },
   "outputs": [],
   "source": []
  }
 ],
 "metadata": {
  "kernelspec": {
   "display_name": "Python [conda root]",
   "language": "python",
   "name": "conda-root-py"
  },
  "language_info": {
   "codemirror_mode": {
    "name": "ipython",
    "version": 3
   },
   "file_extension": ".py",
   "mimetype": "text/x-python",
   "name": "python",
   "nbconvert_exporter": "python",
   "pygments_lexer": "ipython3",
   "version": "3.5.4"
  }
 },
 "nbformat": 4,
 "nbformat_minor": 2
}
