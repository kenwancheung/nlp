{
 "cells": [
  {
   "cell_type": "markdown",
   "metadata": {},
   "source": [
    "# Week 2 - Homework - NLP\n",
    "\n",
    "Improve your analysis from Week-1 by identifying specific words / keywords / N-Grams that lead to failed food inspections in Chicago leveraging tokenization, stemming, lemmatization and N-Gramming in Python.\n",
    "\n",
    "Rules and requirements:\n",
    "\n",
    "Your final output and the code should be contained within Jupyter Notebook\n",
    "Previous Next\n"
   ]
  },
  {
   "cell_type": "code",
   "execution_count": 1,
   "metadata": {
    "collapsed": true
   },
   "outputs": [],
   "source": [
    "#IMPORT\n",
    "import nltk as nltk\n",
    "import nltk.corpus  \n",
    "from nltk.text import Text\n",
    "from nltk.corpus import stopwords\n",
    "import pandas as pd\n",
    "import re\n",
    "import sys\n",
    "import matplotlib\n",
    "import numpy as np"
   ]
  },
  {
   "cell_type": "code",
   "execution_count": 2,
   "metadata": {
    "collapsed": true
   },
   "outputs": [],
   "source": [
    "# import csv\n",
    "fi = pd.read_csv('../rawdata/Food_Inspections.csv')"
   ]
  },
  {
   "cell_type": "code",
   "execution_count": 3,
   "metadata": {},
   "outputs": [
    {
     "data": {
      "text/html": [
       "<div>\n",
       "<style>\n",
       "    .dataframe thead tr:only-child th {\n",
       "        text-align: right;\n",
       "    }\n",
       "\n",
       "    .dataframe thead th {\n",
       "        text-align: left;\n",
       "    }\n",
       "\n",
       "    .dataframe tbody tr th {\n",
       "        vertical-align: top;\n",
       "    }\n",
       "</style>\n",
       "<table border=\"1\" class=\"dataframe\">\n",
       "  <thead>\n",
       "    <tr style=\"text-align: right;\">\n",
       "      <th></th>\n",
       "      <th>Inspection ID</th>\n",
       "      <th>DBA Name</th>\n",
       "      <th>AKA Name</th>\n",
       "      <th>License #</th>\n",
       "      <th>Facility Type</th>\n",
       "      <th>Risk</th>\n",
       "      <th>Address</th>\n",
       "      <th>City</th>\n",
       "      <th>State</th>\n",
       "      <th>Zip</th>\n",
       "      <th>Inspection Date</th>\n",
       "      <th>Inspection Type</th>\n",
       "      <th>Results</th>\n",
       "      <th>Violations</th>\n",
       "      <th>Latitude</th>\n",
       "      <th>Longitude</th>\n",
       "      <th>Location</th>\n",
       "    </tr>\n",
       "  </thead>\n",
       "  <tbody>\n",
       "    <tr>\n",
       "      <th>0</th>\n",
       "      <td>2130049</td>\n",
       "      <td>JOE &amp; THE JUICE ILLINOIS, LLC</td>\n",
       "      <td>JOE &amp; THE JUICE</td>\n",
       "      <td>2564512.0</td>\n",
       "      <td>Restaurant</td>\n",
       "      <td>Risk 2 (Medium)</td>\n",
       "      <td>10 E DELAWARE PL</td>\n",
       "      <td>CHICAGO</td>\n",
       "      <td>IL</td>\n",
       "      <td>60611.0</td>\n",
       "      <td>01/05/2018</td>\n",
       "      <td>License</td>\n",
       "      <td>Pass</td>\n",
       "      <td>NaN</td>\n",
       "      <td>41.899255</td>\n",
       "      <td>-87.627835</td>\n",
       "      <td>(41.89925505559848, -87.62783463799146)</td>\n",
       "    </tr>\n",
       "    <tr>\n",
       "      <th>1</th>\n",
       "      <td>2130022</td>\n",
       "      <td>BOO BAE TEA INC</td>\n",
       "      <td>BOO BAE TEA INC</td>\n",
       "      <td>2570290.0</td>\n",
       "      <td>NaN</td>\n",
       "      <td>Risk 2 (Medium)</td>\n",
       "      <td>1013 W Webster AVE</td>\n",
       "      <td>CHICAGO</td>\n",
       "      <td>IL</td>\n",
       "      <td>60614.0</td>\n",
       "      <td>01/05/2018</td>\n",
       "      <td>License</td>\n",
       "      <td>Not Ready</td>\n",
       "      <td>NaN</td>\n",
       "      <td>41.921620</td>\n",
       "      <td>-87.654051</td>\n",
       "      <td>(41.92161984057171, -87.65405058579164)</td>\n",
       "    </tr>\n",
       "    <tr>\n",
       "      <th>2</th>\n",
       "      <td>2130018</td>\n",
       "      <td>FRESHII</td>\n",
       "      <td>FRESHII</td>\n",
       "      <td>2446395.0</td>\n",
       "      <td>Restaurant</td>\n",
       "      <td>Risk 1 (High)</td>\n",
       "      <td>1166 W MADISON ST</td>\n",
       "      <td>CHICAGO</td>\n",
       "      <td>IL</td>\n",
       "      <td>60607.0</td>\n",
       "      <td>01/05/2018</td>\n",
       "      <td>Canvass</td>\n",
       "      <td>Fail</td>\n",
       "      <td>9. WATER SOURCE: SAFE, HOT &amp; COLD UNDER CITY P...</td>\n",
       "      <td>41.881731</td>\n",
       "      <td>-87.656851</td>\n",
       "      <td>(41.881731324473414, -87.65685079354886)</td>\n",
       "    </tr>\n",
       "    <tr>\n",
       "      <th>3</th>\n",
       "      <td>2129964</td>\n",
       "      <td>LINCOLN PARK PRESCHOOL</td>\n",
       "      <td>LINCOLN PARK PRESCHOOL &amp; KINDERGARTEN</td>\n",
       "      <td>2215624.0</td>\n",
       "      <td>Daycare (2 - 6 Years)</td>\n",
       "      <td>Risk 1 (High)</td>\n",
       "      <td>108 W GERMANIA PL</td>\n",
       "      <td>CHICAGO</td>\n",
       "      <td>IL</td>\n",
       "      <td>60610.0</td>\n",
       "      <td>01/04/2018</td>\n",
       "      <td>License</td>\n",
       "      <td>Pass w/ Conditions</td>\n",
       "      <td>8. SANITIZING RINSE FOR EQUIPMENT AND UTENSILS...</td>\n",
       "      <td>41.910486</td>\n",
       "      <td>-87.631996</td>\n",
       "      <td>(41.91048634702192, -87.63199583676088)</td>\n",
       "    </tr>\n",
       "    <tr>\n",
       "      <th>4</th>\n",
       "      <td>2129963</td>\n",
       "      <td>ORIGINAL STEAM</td>\n",
       "      <td>ORIGINAL STEAM</td>\n",
       "      <td>2574892.0</td>\n",
       "      <td>NaN</td>\n",
       "      <td>Risk 1 (High)</td>\n",
       "      <td>2428 S WALLACE AVE</td>\n",
       "      <td>CHICAGO</td>\n",
       "      <td>IL</td>\n",
       "      <td>60616.0</td>\n",
       "      <td>01/04/2018</td>\n",
       "      <td>License</td>\n",
       "      <td>Not Ready</td>\n",
       "      <td>NaN</td>\n",
       "      <td>41.848386</td>\n",
       "      <td>-87.641960</td>\n",
       "      <td>(41.84838625123219, -87.64196007758322)</td>\n",
       "    </tr>\n",
       "  </tbody>\n",
       "</table>\n",
       "</div>"
      ],
      "text/plain": [
       "   Inspection ID                       DBA Name  \\\n",
       "0        2130049  JOE & THE JUICE ILLINOIS, LLC   \n",
       "1        2130022                BOO BAE TEA INC   \n",
       "2        2130018                        FRESHII   \n",
       "3        2129964         LINCOLN PARK PRESCHOOL   \n",
       "4        2129963                 ORIGINAL STEAM   \n",
       "\n",
       "                                AKA Name  License #          Facility Type  \\\n",
       "0                        JOE & THE JUICE  2564512.0             Restaurant   \n",
       "1                        BOO BAE TEA INC  2570290.0                    NaN   \n",
       "2                                FRESHII  2446395.0             Restaurant   \n",
       "3  LINCOLN PARK PRESCHOOL & KINDERGARTEN  2215624.0  Daycare (2 - 6 Years)   \n",
       "4                         ORIGINAL STEAM  2574892.0                    NaN   \n",
       "\n",
       "              Risk              Address     City State      Zip  \\\n",
       "0  Risk 2 (Medium)    10 E DELAWARE PL   CHICAGO    IL  60611.0   \n",
       "1  Risk 2 (Medium)  1013 W Webster AVE   CHICAGO    IL  60614.0   \n",
       "2    Risk 1 (High)   1166 W MADISON ST   CHICAGO    IL  60607.0   \n",
       "3    Risk 1 (High)   108 W GERMANIA PL   CHICAGO    IL  60610.0   \n",
       "4    Risk 1 (High)  2428 S WALLACE AVE   CHICAGO    IL  60616.0   \n",
       "\n",
       "  Inspection Date Inspection Type             Results  \\\n",
       "0      01/05/2018         License                Pass   \n",
       "1      01/05/2018         License           Not Ready   \n",
       "2      01/05/2018         Canvass                Fail   \n",
       "3      01/04/2018         License  Pass w/ Conditions   \n",
       "4      01/04/2018         License           Not Ready   \n",
       "\n",
       "                                          Violations   Latitude  Longitude  \\\n",
       "0                                                NaN  41.899255 -87.627835   \n",
       "1                                                NaN  41.921620 -87.654051   \n",
       "2  9. WATER SOURCE: SAFE, HOT & COLD UNDER CITY P...  41.881731 -87.656851   \n",
       "3  8. SANITIZING RINSE FOR EQUIPMENT AND UTENSILS...  41.910486 -87.631996   \n",
       "4                                                NaN  41.848386 -87.641960   \n",
       "\n",
       "                                   Location  \n",
       "0   (41.89925505559848, -87.62783463799146)  \n",
       "1   (41.92161984057171, -87.65405058579164)  \n",
       "2  (41.881731324473414, -87.65685079354886)  \n",
       "3   (41.91048634702192, -87.63199583676088)  \n",
       "4   (41.84838625123219, -87.64196007758322)  "
      ]
     },
     "execution_count": 3,
     "metadata": {},
     "output_type": "execute_result"
    }
   ],
   "source": [
    "fi.head()"
   ]
  },
  {
   "cell_type": "code",
   "execution_count": 4,
   "metadata": {
    "collapsed": true
   },
   "outputs": [],
   "source": [
    "# segment into own df\n",
    "fail = fi[fi[\"Results\"] == \"Fail\"].reset_index()\n",
    "fail = fail.Violations"
   ]
  },
  {
   "cell_type": "code",
   "execution_count": 5,
   "metadata": {
    "scrolled": true
   },
   "outputs": [
    {
     "data": {
      "text/plain": [
       "0    9. WATER SOURCE: SAFE, HOT & COLD UNDER CITY P...\n",
       "1    3. POTENTIALLY HAZARDOUS FOOD MEETS TEMPERATUR...\n",
       "2    12. HAND WASHING FACILITIES: WITH SOAP AND SAN...\n",
       "3    18. NO EVIDENCE OF RODENT OR INSECT OUTER OPEN...\n",
       "4    41. PREMISES MAINTAINED FREE OF LITTER, UNNECE...\n",
       "Name: Violations, dtype: object"
      ]
     },
     "execution_count": 5,
     "metadata": {},
     "output_type": "execute_result"
    }
   ],
   "source": [
    "fail.head()"
   ]
  },
  {
   "cell_type": "markdown",
   "metadata": {},
   "source": [
    "### In parsing the comments, I noticed there were line breaks introduced with pandas\n",
    "\n",
    "We regex them out below"
   ]
  },
  {
   "cell_type": "code",
   "execution_count": 6,
   "metadata": {
    "scrolled": false
   },
   "outputs": [
    {
     "data": {
      "text/plain": [
       "'9. WATER SOURCE: SAFE, HOT & COLD UNDER CITY PRESSURE - Comments: OBSERVE NO HOT RUNNING WATER ON THE PREMISES; THAT INCLUDES EXPOSED HAND SINKS IN FRONT & REAR PREP AREAS, 3-COMPARTMENT SINK IN REAR PREP, AND HAND SINKS IN BOTH TOILET ROOMS. INSTRUCTED TO CONTACT PLUMMER TO HAVE HOT WATER RESTORED. CRITICAL VIOLATION 7-38-030. | 29. PREVIOUS MINOR VIOLATION(S) CORRECTED 7-42-090 - Comments: PREVIOUS MINOR VIOLATION NOT CORRECTED FROM INSPECTION REPORT 1989320, DATED 2/17/2017. VIOLATION INCLUDES; #38; NO RUNNING HOT AND COLD WATER TO TOP LOADING SOFT SERVE MACHINE, INSTRUCTED TO PROVIDE,  \\n \\nVIOLATION STILL EXISTS. SERIOUS VIOLATION 7-42-090 | 32. FOOD AND NON-FOOD CONTACT SURFACES PROPERLY DESIGNED, CONSTRUCTED AND MAINTAINED - Comments: MUST DISCONTINUE USING MILK CRATES AS STORAGE RACKS THROUGHOUT FRONT AND REAR PREP AREAS, AND IN THE WALK IN COOLER. INSTALL CORRECT STORAGE RACKS. | 34. FLOORS: CONSTRUCTED PER CODE, CLEANED, GOOD REPAIR, COVING INSTALLED, DUST-LESS CLEANING METHODS USED - Comments: MUST REPAIR COVING ON WALL ACROSS FROM THE EXPOSED HAND SINK  \\nIN THE REAR PREP AREA.'"
      ]
     },
     "execution_count": 6,
     "metadata": {},
     "output_type": "execute_result"
    }
   ],
   "source": [
    "# Sample\n",
    "fail[0]"
   ]
  },
  {
   "cell_type": "code",
   "execution_count": 7,
   "metadata": {
    "collapsed": true,
    "scrolled": true
   },
   "outputs": [],
   "source": [
    "# replace line breaks\n",
    "fail.replace({r'\\n\\s\\n': ''}, regex=True,inplace=True)"
   ]
  },
  {
   "cell_type": "code",
   "execution_count": 8,
   "metadata": {
    "scrolled": true
   },
   "outputs": [
    {
     "data": {
      "text/plain": [
       "'9. WATER SOURCE: SAFE, HOT & COLD UNDER CITY PRESSURE - Comments: OBSERVE NO HOT RUNNING WATER ON THE PREMISES; THAT INCLUDES EXPOSED HAND SINKS IN FRONT & REAR PREP AREAS, 3-COMPARTMENT SINK IN REAR PREP, AND HAND SINKS IN BOTH TOILET ROOMS. INSTRUCTED TO CONTACT PLUMMER TO HAVE HOT WATER RESTORED. CRITICAL VIOLATION 7-38-030. | 29. PREVIOUS MINOR VIOLATION(S) CORRECTED 7-42-090 - Comments: PREVIOUS MINOR VIOLATION NOT CORRECTED FROM INSPECTION REPORT 1989320, DATED 2/17/2017. VIOLATION INCLUDES; #38; NO RUNNING HOT AND COLD WATER TO TOP LOADING SOFT SERVE MACHINE, INSTRUCTED TO PROVIDE,  VIOLATION STILL EXISTS. SERIOUS VIOLATION 7-42-090 | 32. FOOD AND NON-FOOD CONTACT SURFACES PROPERLY DESIGNED, CONSTRUCTED AND MAINTAINED - Comments: MUST DISCONTINUE USING MILK CRATES AS STORAGE RACKS THROUGHOUT FRONT AND REAR PREP AREAS, AND IN THE WALK IN COOLER. INSTALL CORRECT STORAGE RACKS. | 34. FLOORS: CONSTRUCTED PER CODE, CLEANED, GOOD REPAIR, COVING INSTALLED, DUST-LESS CLEANING METHODS USED - Comments: MUST REPAIR COVING ON WALL ACROSS FROM THE EXPOSED HAND SINK  \\nIN THE REAR PREP AREA.'"
      ]
     },
     "execution_count": 8,
     "metadata": {},
     "output_type": "execute_result"
    }
   ],
   "source": [
    "# fixed.\n",
    "fail[0]"
   ]
  },
  {
   "cell_type": "markdown",
   "metadata": {},
   "source": [
    "## We've now imported the violations again and segmented out the failures\n",
    "\n",
    "However we are looking for the individual comments, so we need to tweak the parsing."
   ]
  },
  {
   "cell_type": "code",
   "execution_count": 9,
   "metadata": {
    "collapsed": true,
    "scrolled": true
   },
   "outputs": [],
   "source": [
    "# test pattern\n",
    "reason_codes = pd.DataFrame(columns = ['reason'])\n",
    "counter = 0 \n",
    "\n",
    "for i in range(0,len(fail)):\n",
    "    test_text = str(fail[i])\n",
    "    m = re.findall(r\"Comments:\\s(.*?)\\s\\|\",test_text)\n",
    "#     print(\"0\",m[0])\n",
    "#     print(\"1\",m[1])\n",
    "#     print(\"2\",m[2])\n",
    "    if len(m) > 0:\n",
    "        for j in range(0,len(m)):\n",
    "            reason_codes.loc[counter] = m[j]\n",
    "            counter += 1\n",
    "    else:\n",
    "        reason_codes.loc[counter] = None\n",
    "        counter += 1"
   ]
  },
  {
   "cell_type": "code",
   "execution_count": 10,
   "metadata": {},
   "outputs": [
    {
     "data": {
      "text/html": [
       "<div>\n",
       "<style>\n",
       "    .dataframe thead tr:only-child th {\n",
       "        text-align: right;\n",
       "    }\n",
       "\n",
       "    .dataframe thead th {\n",
       "        text-align: left;\n",
       "    }\n",
       "\n",
       "    .dataframe tbody tr th {\n",
       "        vertical-align: top;\n",
       "    }\n",
       "</style>\n",
       "<table border=\"1\" class=\"dataframe\">\n",
       "  <thead>\n",
       "    <tr style=\"text-align: right;\">\n",
       "      <th></th>\n",
       "      <th>reason</th>\n",
       "    </tr>\n",
       "  </thead>\n",
       "  <tbody>\n",
       "    <tr>\n",
       "      <th>0</th>\n",
       "      <td>OBSERVE NO HOT RUNNING WATER ON THE PREMISES; ...</td>\n",
       "    </tr>\n",
       "    <tr>\n",
       "      <th>1</th>\n",
       "      <td>PREVIOUS MINOR VIOLATION NOT CORRECTED FROM IN...</td>\n",
       "    </tr>\n",
       "    <tr>\n",
       "      <th>2</th>\n",
       "      <td>MUST DISCONTINUE USING MILK CRATES AS STORAGE ...</td>\n",
       "    </tr>\n",
       "    <tr>\n",
       "      <th>3</th>\n",
       "      <td>OBSERVED POTENTIALLY HAZARDOUS FOODS AT IMPROP...</td>\n",
       "    </tr>\n",
       "    <tr>\n",
       "      <th>4</th>\n",
       "      <td>INADEQUATE SUPPLY OF HOT WATER AVAILABLE IN TH...</td>\n",
       "    </tr>\n",
       "  </tbody>\n",
       "</table>\n",
       "</div>"
      ],
      "text/plain": [
       "                                              reason\n",
       "0  OBSERVE NO HOT RUNNING WATER ON THE PREMISES; ...\n",
       "1  PREVIOUS MINOR VIOLATION NOT CORRECTED FROM IN...\n",
       "2  MUST DISCONTINUE USING MILK CRATES AS STORAGE ...\n",
       "3  OBSERVED POTENTIALLY HAZARDOUS FOODS AT IMPROP...\n",
       "4  INADEQUATE SUPPLY OF HOT WATER AVAILABLE IN TH..."
      ]
     },
     "execution_count": 10,
     "metadata": {},
     "output_type": "execute_result"
    }
   ],
   "source": [
    "reason_codes.head()"
   ]
  },
  {
   "cell_type": "code",
   "execution_count": 11,
   "metadata": {
    "collapsed": true
   },
   "outputs": [],
   "source": [
    "# change to string\n",
    "reason_str = reason_codes.to_string()"
   ]
  },
  {
   "cell_type": "code",
   "execution_count": 12,
   "metadata": {
    "scrolled": true
   },
   "outputs": [
    {
     "data": {
      "text/plain": [
       "str"
      ]
     },
     "execution_count": 12,
     "metadata": {},
     "output_type": "execute_result"
    }
   ],
   "source": [
    "type(reason_str)"
   ]
  },
  {
   "cell_type": "code",
   "execution_count": 13,
   "metadata": {
    "collapsed": true
   },
   "outputs": [],
   "source": [
    "# words\n",
    "words = nltk.tokenize.word_tokenize(reason_str)"
   ]
  },
  {
   "cell_type": "markdown",
   "metadata": {},
   "source": [
    "## tokenization"
   ]
  },
  {
   "cell_type": "code",
   "execution_count": 14,
   "metadata": {
    "collapsed": true
   },
   "outputs": [],
   "source": [
    "#stopwords = stopwords.words('english')\n",
    "stopwords = set(nltk.corpus.stopwords.words('english'))\n",
    "\n",
    "# Remove single-character tokens (mostly punctuation)\n",
    "words = [word for word in words if len(word) > 1]\n",
    "\n",
    "# Remove punctuation\n",
    "words = [word for word in words if word.isalpha()]\n",
    "\n",
    "# Lowercase all words (default_stopwords are lowercase too)\n",
    "words = [word.lower() for word in words]\n",
    "\n",
    "# Remove stopwords\n",
    "words = [word for word in words if word not in stopwords]"
   ]
  },
  {
   "cell_type": "markdown",
   "metadata": {},
   "source": [
    "## Now we can gt the most common key words that might indicate a failed response."
   ]
  },
  {
   "cell_type": "code",
   "execution_count": 15,
   "metadata": {
    "scrolled": true
   },
   "outputs": [
    {
     "data": {
      "text/plain": [
       "[('must', 20890),\n",
       " ('observed', 18543),\n",
       " ('food', 17836),\n",
       " ('clean', 14585),\n",
       " ('shall', 9503),\n",
       " ('floors', 7437),\n",
       " ('repair', 6548),\n",
       " ('floor', 6281),\n",
       " ('prep', 6088),\n",
       " ('walls', 5955),\n",
       " ('found', 5937),\n",
       " ('nan', 5697),\n",
       " ('sink', 5664),\n",
       " ('provide', 5649),\n",
       " ('area', 5493),\n",
       " ('violation', 5030),\n",
       " ('instructed', 4796),\n",
       " ('rear', 4643),\n",
       " ('corrected', 4566),\n",
       " ('detail', 4523),\n",
       " ('replace', 4226),\n",
       " ('equipment', 4133),\n",
       " ('contact', 4051),\n",
       " ('light', 4000),\n",
       " ('storage', 3807),\n",
       " ('inside', 3630),\n",
       " ('water', 3523),\n",
       " ('control', 3516),\n",
       " ('door', 3479),\n",
       " ('remove', 3367),\n",
       " ('noted', 3327),\n",
       " ('used', 3202),\n",
       " ('stored', 3174),\n",
       " ('interior', 3173),\n",
       " ('hand', 3079),\n",
       " ('front', 2997),\n",
       " ('ice', 2976),\n",
       " ('cooler', 2963),\n",
       " ('ceiling', 2834),\n",
       " ('missing', 2770),\n",
       " ('exposed', 2722),\n",
       " ('wall', 2620),\n",
       " ('per', 2561),\n",
       " ('code', 2480),\n",
       " ('constructed', 2465),\n",
       " ('previous', 2451),\n",
       " ('along', 2443),\n",
       " ('ceilings', 2431),\n",
       " ('grease', 2394),\n",
       " ('surfaces', 2310)]"
      ]
     },
     "execution_count": 15,
     "metadata": {},
     "output_type": "execute_result"
    }
   ],
   "source": [
    "fdist = nltk.FreqDist(words)\n",
    "fdist.most_common(50)"
   ]
  },
  {
   "cell_type": "code",
   "execution_count": null,
   "metadata": {
    "collapsed": true
   },
   "outputs": [],
   "source": [
    "size"
   ]
  },
  {
   "cell_type": "markdown",
   "metadata": {
    "collapsed": true
   },
   "source": [
    "## Quick thoughts:\n",
    "\n",
    "In a way these make sense. The words used all are the subjects of concern (door, area, hand, wall) or the actions upon those (corrected, contact, found, repair)."
   ]
  },
  {
   "cell_type": "code",
   "execution_count": 18,
   "metadata": {},
   "outputs": [
    {
     "data": {
      "text/plain": [
       "7289952"
      ]
     },
     "execution_count": 18,
     "metadata": {},
     "output_type": "execute_result"
    }
   ],
   "source": [
    "sys.getsizeof(reason_str)"
   ]
  },
  {
   "cell_type": "markdown",
   "metadata": {},
   "source": [
    "We can see how a word like \"observed\" might interact in a failed setting.\n",
    "\n",
    "\"Observed {some issue}\""
   ]
  },
  {
   "cell_type": "markdown",
   "metadata": {
    "collapsed": true
   },
   "source": [
    "## Some cleaning / lemmatization!"
   ]
  },
  {
   "cell_type": "code",
   "execution_count": 20,
   "metadata": {},
   "outputs": [
    {
     "name": "stdout",
     "output_type": "stream",
     "text": [
      "['reason', 'observe', 'hot', 'running', 'water', 'premise', 'previous', 'minor', 'violation', 'corrected', 'must', 'discontinue', 'using', 'milk', 'crate', 'storage', 'observed', 'potentially', 'hazardous', 'food', 'improp', 'inadequate', 'supply', 'hot', 'water', 'available', 'th', 'detail', 'clean', 'pizza', 'oven', 'prep', 'table', 'hot', 'detail', 'clean', 'floor', 'throughout', 'premise', 'detail', 'clean', 'ventilation', 'hood', 'filter', 'maintain', 'outside', 'area', 'remove', 'unnecessa', 'replace']\n"
     ]
    }
   ],
   "source": [
    "wnl = nltk.WordNetLemmatizer()\n",
    "print([wnl.lemmatize(t) for t in words[0:50]])"
   ]
  },
  {
   "cell_type": "markdown",
   "metadata": {},
   "source": [
    "# N Gram application"
   ]
  },
  {
   "cell_type": "code",
   "execution_count": 44,
   "metadata": {
    "collapsed": true
   },
   "outputs": [],
   "source": [
    "#Create your bigrams or trigrams\n",
    "bgs = nltk.bigrams(words)\n",
    "tgs = nltk.trigrams(words)\n",
    "\n",
    "#compute frequency distribution for all the bigrams in the text\n",
    "fdist_2 = nltk.FreqDist(bgs)\n",
    "fdist_3 = nltk.FreqDist(tgs)"
   ]
  },
  {
   "cell_type": "markdown",
   "metadata": {},
   "source": [
    "## Frequency\n",
    "\n",
    "We'll first do bigrams and then trigrams most common.\n",
    "\n",
    "They make a lot of sense!"
   ]
  },
  {
   "cell_type": "code",
   "execution_count": 34,
   "metadata": {},
   "outputs": [
    {
     "data": {
      "text/plain": [
       "[(('food', 'contact'), 3947),\n",
       " (('detail', 'clean'), 3878),\n",
       " (('must', 'clean'), 3699),\n",
       " (('must', 'provide'), 3502),\n",
       " (('violation', 'corrected'), 2647),\n",
       " (('floors', 'shall'), 2467),\n",
       " (('per', 'code'), 2455),\n",
       " (('constructed', 'per'), 2455),\n",
       " (('shall', 'constructed'), 2454),\n",
       " (('walls', 'ceilings'), 2359),\n",
       " (('prep', 'area'), 2333),\n",
       " (('good', 'repair'), 2202),\n",
       " (('ceilings', 'shall'), 2191),\n",
       " (('shall', 'good'), 2191),\n",
       " (('necessary', 'control'), 2168),\n",
       " (('control', 'measures'), 2164),\n",
       " (('measures', 'shall'), 2162),\n",
       " (('shall', 'used'), 2162),\n",
       " (('clean', 'floors'), 2088),\n",
       " (('must', 'repair'), 2083),\n",
       " (('contact', 'surfaces'), 2007),\n",
       " (('contact', 'equipment'), 1921),\n",
       " (('equipment', 'ut'), 1899),\n",
       " (('surfaces', 'equi'), 1785),\n",
       " (('previous', 'minor'), 1736),\n",
       " (('must', 'detail'), 1633),\n",
       " (('food', 'establishments'), 1478),\n",
       " (('clean', 'maintain'), 1468),\n",
       " (('hand', 'sink'), 1417),\n",
       " (('nan', 'nan'), 1409),\n",
       " (('exposed', 'hand'), 1398),\n",
       " (('must', 'remove'), 1377),\n",
       " (('clean', 'interior'), 1322),\n",
       " (('certified', 'food'), 1266),\n",
       " (('mice', 'droppings'), 1263),\n",
       " (('code', 'walls'), 1250),\n",
       " (('pest', 'control'), 1237),\n",
       " (('repair', 'replace'), 1207),\n",
       " (('city', 'chicago'), 1204),\n",
       " (('light', 'shields'), 1191),\n",
       " (('compartment', 'sink'), 1182),\n",
       " (('plumbing', 'fixtures'), 1153),\n",
       " (('ventilation', 'plumbing'), 1140),\n",
       " (('ceiling', 'tiles'), 1133),\n",
       " (('potentially', 'hazardous'), 1124),\n",
       " (('minor', 'violations'), 1102),\n",
       " (('light', 'shield'), 1066),\n",
       " (('establishments', 'display'), 1061),\n",
       " (('display', 'prepare'), 1061),\n",
       " (('corrected', 'violation'), 1032)]"
      ]
     },
     "execution_count": 34,
     "metadata": {},
     "output_type": "execute_result"
    }
   ],
   "source": [
    "fdist_2.most_common(50)"
   ]
  },
  {
   "cell_type": "code",
   "execution_count": 35,
   "metadata": {},
   "outputs": [
    {
     "data": {
      "text/plain": [
       "[(('constructed', 'per', 'code'), 2454),\n",
       " (('shall', 'constructed', 'per'), 2454),\n",
       " (('floors', 'shall', 'constructed'), 2453),\n",
       " (('walls', 'ceilings', 'shall'), 2191),\n",
       " (('ceilings', 'shall', 'good'), 2191),\n",
       " (('shall', 'good', 'repair'), 2189),\n",
       " (('necessary', 'control', 'measures'), 2164),\n",
       " (('measures', 'shall', 'used'), 2162),\n",
       " (('control', 'measures', 'shall'), 2162),\n",
       " (('food', 'contact', 'surfaces'), 1983),\n",
       " (('food', 'contact', 'equipment'), 1920),\n",
       " (('contact', 'equipment', 'ut'), 1897),\n",
       " (('contact', 'surfaces', 'equi'), 1785),\n",
       " (('must', 'detail', 'clean'), 1588),\n",
       " (('per', 'code', 'walls'), 1250),\n",
       " (('code', 'walls', 'ceilings'), 1248),\n",
       " (('must', 'repair', 'replace'), 1139),\n",
       " (('ventilation', 'plumbing', 'fixtures'), 1133),\n",
       " (('previous', 'minor', 'violations'), 1078),\n",
       " (('food', 'establishments', 'display'), 1061),\n",
       " (('establishments', 'display', 'prepare'), 1061),\n",
       " (('detail', 'clean', 'floors'), 1006),\n",
       " (('surfaces', 'equi', 'floors'), 992),\n",
       " (('equi', 'floors', 'shall'), 988),\n",
       " (('corrected', 'violation', 'corrected'), 973),\n",
       " (('violation', 'corrected', 'violation'), 966),\n",
       " (('exposed', 'hand', 'sink'), 894),\n",
       " (('equipment', 'ut', 'food'), 846),\n",
       " (('potentially', 'hazardous', 'foods'), 816),\n",
       " (('shall', 'used', 'food'), 793),\n",
       " (('detail', 'clean', 'maintain'), 781),\n",
       " (('ut', 'food', 'contact'), 761),\n",
       " (('instructed', 'detail', 'clean'), 728),\n",
       " (('used', 'food', 'contact'), 720),\n",
       " (('parts', 'food', 'establishment'), 699),\n",
       " (('food', 'establishment', 'pa'), 697),\n",
       " (('observed', 'mice', 'droppings'), 686),\n",
       " (('pest', 'control', 'log'), 604),\n",
       " (('previous', 'minor', 'violation'), 597),\n",
       " (('broken', 'glass', 'fall'), 582),\n",
       " (('shielding', 'protect', 'broken'), 582),\n",
       " (('protect', 'broken', 'glass'), 582),\n",
       " (('food', 'service', 'manager'), 547),\n",
       " (('clean', 'interior', 'exterior'), 538),\n",
       " (('certified', 'food', 'manager'), 536),\n",
       " (('control', 'log', 'book'), 531),\n",
       " (('stained', 'ceiling', 'tiles'), 522),\n",
       " (('hot', 'running', 'water'), 508),\n",
       " (('city', 'chicago', 'certified'), 507),\n",
       " (('food', 'stored', 'original'), 502)]"
      ]
     },
     "execution_count": 35,
     "metadata": {},
     "output_type": "execute_result"
    }
   ],
   "source": [
    "fdist_3.most_common(50)"
   ]
  },
  {
   "cell_type": "markdown",
   "metadata": {},
   "source": [
    "## Longer n grams"
   ]
  },
  {
   "cell_type": "code",
   "execution_count": 43,
   "metadata": {
    "collapsed": true
   },
   "outputs": [],
   "source": [
    "sgs = nltk.ngrams(words,n=6)\n",
    "\n",
    "#compute frequency distribution for all the bigrams in the text\n",
    "fdist_6 = nltk.FreqDist(sgs)"
   ]
  },
  {
   "cell_type": "code",
   "execution_count": 45,
   "metadata": {},
   "outputs": [
    {
     "data": {
      "text/plain": [
       "[(('floors', 'shall', 'constructed', 'per', 'code', 'walls'), 1250),\n",
       " (('shall', 'constructed', 'per', 'code', 'walls', 'ceilings'), 1248),\n",
       " (('constructed', 'per', 'code', 'walls', 'ceilings', 'shall'), 1247),\n",
       " (('per', 'code', 'walls', 'ceilings', 'shall', 'good'), 1247),\n",
       " (('code', 'walls', 'ceilings', 'shall', 'good', 'repair'), 1246),\n",
       " (('contact', 'surfaces', 'equi', 'floors', 'shall', 'constructed'), 988),\n",
       " (('equi', 'floors', 'shall', 'constructed', 'per', 'code'), 988),\n",
       " (('surfaces', 'equi', 'floors', 'shall', 'constructed', 'per'), 988),\n",
       " (('food', 'contact', 'surfaces', 'equi', 'floors', 'shall'), 988),\n",
       " (('necessary', 'control', 'measures', 'shall', 'used', 'food'), 793)]"
      ]
     },
     "execution_count": 45,
     "metadata": {},
     "output_type": "execute_result"
    }
   ],
   "source": [
    "fdist_6.most_common(10)"
   ]
  },
  {
   "cell_type": "markdown",
   "metadata": {},
   "source": [
    "## Final thoughts\n",
    "\n",
    "We can see that a simple n grams model could serve us quite well if we wanted to predict failure or not given how much context we can derive simply from the frequencies.\n",
    "\n"
   ]
  },
  {
   "cell_type": "code",
   "execution_count": null,
   "metadata": {
    "collapsed": true
   },
   "outputs": [],
   "source": []
  }
 ],
 "metadata": {
  "kernelspec": {
   "display_name": "Python [conda root]",
   "language": "python",
   "name": "conda-root-py"
  },
  "language_info": {
   "codemirror_mode": {
    "name": "ipython",
    "version": 3
   },
   "file_extension": ".py",
   "mimetype": "text/x-python",
   "name": "python",
   "nbconvert_exporter": "python",
   "pygments_lexer": "ipython3",
   "version": "3.5.4"
  }
 },
 "nbformat": 4,
 "nbformat_minor": 2
}
