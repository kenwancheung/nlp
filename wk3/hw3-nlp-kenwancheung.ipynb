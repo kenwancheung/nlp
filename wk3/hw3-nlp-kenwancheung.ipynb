{
 "cells": [
  {
   "cell_type": "markdown",
   "metadata": {},
   "source": [
    "# Homework 3 - Kenwan Cheung - NLP\n",
    "\n",
    "You have two zip files included into this assignment:\n",
    "\n",
    "Assignment Articles.zip\n",
    "Assignment Books.zip\n",
    "You need to determine which articles (from Assignment Articles.zip) are similar to each other and which books (from Assignment Books.zip) are more similar to each other.  In order to accomplish this you need to create n-grams (a.k.a. shingles) and compare the similarity of the text using Jaccard distance.\n",
    "\n",
    "Your final submission must include the following:\n",
    "\n",
    "Which articles / books were similar and which ones were dissimilar?\n",
    "A brief write-up explaining why and how you chose “n” for you analysis (for n-grams)\n",
    "Was the “n” identical or different for books vs. articles and why\n",
    "Visualize the selection of “n”\n",
    "Include all of your program codes (creating n-grams from text as well as selecting the “n” for analysis)\n",
    "Additional instructions:\n",
    "\n",
    "You have a starter code in a Python Notebook, however you are welcome to use any software of your choice to complete assignment\n",
    "Try to limit your submission to no more than two pages in MS Word document\n",
    "Visualize your results instead of writing about them. Remember, a picture is worth a thousand words\n"
   ]
  },
  {
   "cell_type": "code",
   "execution_count": 137,
   "metadata": {
    "collapsed": true
   },
   "outputs": [],
   "source": [
    "from __future__ import division\n",
    "import nltk\n",
    "import string\n",
    "import os\n",
    "from nltk.corpus import stopwords\n",
    "from itertools import combinations\n",
    "import matplotlib.pyplot as plt\n",
    "import numpy as np\n",
    "import pandas as pd\n",
    "import seaborn as sns"
   ]
  },
  {
   "cell_type": "markdown",
   "metadata": {},
   "source": [
    "### Import functions\n",
    "\n",
    "Some functions to ingest the data"
   ]
  },
  {
   "cell_type": "code",
   "execution_count": 285,
   "metadata": {
    "collapsed": true
   },
   "outputs": [],
   "source": [
    "def ngram_compare_files(file1,file2,n):\n",
    "    # Takes two files\n",
    "    # hashes their n-grams into twos lists\n",
    "    # calculates the intersection and union\n",
    "    # of the two lists, and returns\n",
    "    # Jacard similarity value\n",
    " \n",
    "    stop = stopwords.words('english')\n",
    "    f1 = open(file1)\n",
    "    raw = f1.read()\n",
    "    f1.close()\n",
    "    f1_grams = nltk.ngrams(raw.split(),n)\n",
    "    \n",
    "    array_1 = []\n",
    "    \n",
    "    for gram in f1_grams:\n",
    "        array_1.append(hash(gram))\n",
    "    f2 = open(file2)\n",
    "    raw = f2.read()\n",
    "    f2.close()\n",
    "    f2_grams = nltk.ngrams(raw.split(),n)\n",
    "    \n",
    "    array_2 = []\n",
    "    \n",
    "    for gram in f2_grams:\n",
    "        array_2.append(hash(gram))\n",
    "        \n",
    "    intersection = len(list(set(array_1).intersection(array_2)))    \n",
    "    union = len(set(array_1)) + len(set(array_2)) - intersection\n",
    "    jacard_similarity = intersection / union\n",
    "    return jacard_similarity\n",
    "\n",
    "\n",
    "def pairs_of_files(directory):\n",
    "    # returns combination of two files given\n",
    "    # all files in a directory\n",
    "    \n",
    "    dir = os.listdir(directory)\n",
    "    combo = combinations(dir, 2)\n",
    "    return combo\n",
    "\n",
    "def compare_files(directory,ngram_size,threshold):\n",
    "    # compares all pairs of files in a directory\n",
    "    # for similarity.\n",
    "    # RETURNS: Dictionary, with key as\n",
    "    # comma-separated string of two files\n",
    "    # and value of similarity index as decimal\n",
    "    # where similarity index is above threshold\n",
    "    # value.\n",
    "    \n",
    "    compare_dictionary = {}\n",
    "    \n",
    "    ngram = ngram_size\n",
    "    combo = pairs_of_files(directory)\n",
    "    \n",
    "    for i in combo:\n",
    "        \n",
    "        sim = ngram_compare_files(directory+str(i[0]),directory+str(i[1]),ngram)\n",
    "        if sim > threshold:\n",
    "            \n",
    "            key = str(i[0]) + \",\" + str(i[1])\n",
    "            value = sim\n",
    "            compare_dictionary[key]=value\n",
    "            \n",
    "    return compare_dictionary            "
   ]
  },
  {
   "cell_type": "markdown",
   "metadata": {},
   "source": [
    "### Load the data in"
   ]
  },
  {
   "cell_type": "code",
   "execution_count": 3,
   "metadata": {
    "collapsed": true
   },
   "outputs": [],
   "source": [
    "dir_b = '../wk3/Assignment 3 Books/'\n",
    "dir_a = '../wk3/Assignment 3 Articles/'"
   ]
  },
  {
   "cell_type": "code",
   "execution_count": 4,
   "metadata": {
    "collapsed": true
   },
   "outputs": [],
   "source": [
    "x = []\n",
    "y = []\n",
    "yall = []\n",
    "\n",
    "for n in range(2,20):\n",
    "        \n",
    "    books_comparison = compare_files(dir_b,ngram_size=n,threshold=-1)\n",
    "    a = np.zeros(len(books_comparison))\n",
    "    counter = 0\n",
    "    for key, value in books_comparison.items():\n",
    "        a[counter] = value\n",
    "        counter +=1\n",
    "    #print str(n) + \":\" + str(a.mean())\n",
    "    x.append(n)\n",
    "    yall.append(a*100)\n",
    "    y.append(a.mean()*100)"
   ]
  },
  {
   "cell_type": "markdown",
   "metadata": {},
   "source": [
    "### We've run the function to load the data and run ngrams\n",
    "\n",
    "The function returns the jaccard similarity (intersection / (total - intersection)) of the lists. We can plot them below."
   ]
  },
  {
   "cell_type": "code",
   "execution_count": 5,
   "metadata": {
    "scrolled": true
   },
   "outputs": [
    {
     "data": {
      "image/png": "[encoded data removed]",
      "text/plain": [
       "<matplotlib.figure.Figure at 0x10e0c7ac8>"
      ]
     },
     "metadata": {},
     "output_type": "display_data"
    }
   ],
   "source": [
    "plt.plot(x,y, linestyle = '-')\n",
    "#plt.plot(x,yall, linestyle = '--')\n",
    "plt.xlabel('n in n-grams')\n",
    "plt.ylabel('Similarity (pct)')\n",
    "plt.title('Similarity Across All Books per N n-gram')\n",
    "plt.grid()\n",
    "plt.show()"
   ]
  },
  {
   "cell_type": "markdown",
   "metadata": {},
   "source": [
    "### Discussion \n",
    "\n",
    "If we pick n = 5, we hit the elbow plot where additional complexity does not lead to a change in similarity. This seems like an optimal point."
   ]
  },
  {
   "cell_type": "markdown",
   "metadata": {},
   "source": [
    "### Running on articles"
   ]
  },
  {
   "cell_type": "code",
   "execution_count": 6,
   "metadata": {
    "collapsed": true
   },
   "outputs": [],
   "source": [
    "x_a = []\n",
    "y_a = []\n",
    "yall_a = []\n",
    "\n",
    "for n in range(2,20):\n",
    "        \n",
    "    books_comparison = compare_files(dir_a,ngram_size=n,threshold=-1)\n",
    "    a = np.zeros(len(books_comparison))\n",
    "    counter = 0\n",
    "    for key, value in books_comparison.items():\n",
    "        a[counter] = value\n",
    "        counter +=1\n",
    "    #print str(n) + \":\" + str(a.mean())\n",
    "    x_a.append(n)\n",
    "    yall_a.append(a*100)\n",
    "    y_a.append(a.mean()*100)"
   ]
  },
  {
   "cell_type": "markdown",
   "metadata": {},
   "source": [
    "### We've run the function to load the data and run ngrams\n",
    "\n",
    "The function returns the jaccard similarity (intersection / (total - intersection)) of the lists. We can plot them below."
   ]
  },
  {
   "cell_type": "code",
   "execution_count": 7,
   "metadata": {
    "scrolled": true
   },
   "outputs": [
    {
     "data": {
      "image/png": "[encoded data removed]",
      "text/plain": [
       "<matplotlib.figure.Figure at 0x10efb6550>"
      ]
     },
     "metadata": {},
     "output_type": "display_data"
    }
   ],
   "source": [
    "plt.plot(x_a,y_a, linestyle = '-')\n",
    "plt.xlabel('n in n-grams')\n",
    "plt.ylabel('Similarity (pct)')\n",
    "plt.title('Similarity Across All Articles per N n-gram')\n",
    "plt.grid()\n",
    "plt.show()"
   ]
  },
  {
   "cell_type": "markdown",
   "metadata": {},
   "source": [
    "### Discussion\n",
    "\n",
    "We should pick a higher ngram for articles than books, interestingly enough.\n",
    "\n",
    "An n of ~ 8 is probably better fit for articles. If I had to guess, the shorter nature means we need more information from each to get a stable similarity metric."
   ]
  },
  {
   "cell_type": "code",
   "execution_count": 4,
   "metadata": {
    "collapsed": true
   },
   "outputs": [],
   "source": [
    "x = []\n",
    "y = []\n",
    "yall = []\n",
    "\n",
    "for n in range(2,20):\n",
    "        \n",
    "    books_comparison = compare_files(dir_b,ngram_size=n,threshold=-1)\n",
    "    a = np.zeros(len(books_comparison))\n",
    "    counter = 0\n",
    "    for key, value in books_comparison.items():\n",
    "        a[counter] = value\n",
    "        counter +=1\n",
    "    #print str(n) + \":\" + str(a.mean())\n",
    "    x.append(n)\n",
    "    yall.append(a*100)\n",
    "    y.append(a.mean()*100)"
   ]
  },
  {
   "cell_type": "markdown",
   "metadata": {},
   "source": [
    "### We've run the function to load the data and run ngrams\n",
    "\n",
    "The function returns the jaccard similarity (intersection / (total - intersection)) of the lists. We can plot them below."
   ]
  },
  {
   "cell_type": "code",
   "execution_count": 5,
   "metadata": {
    "scrolled": false
   },
   "outputs": [
    {
     "data": {
      "image/png": "[encoded data removed]",
      "text/plain": [
       "<matplotlib.figure.Figure at 0x10e0c7ac8>"
      ]
     },
     "metadata": {},
     "output_type": "display_data"
    }
   ],
   "source": [
    "plt.plot(x,y, linestyle = '-')\n",
    "#plt.plot(x,yall, linestyle = '--')\n",
    "plt.xlabel('n in n-grams')\n",
    "plt.ylabel('Similarity (pct)')\n",
    "plt.title('Similarity Across All Books per N n-gram')\n",
    "plt.grid()\n",
    "plt.show()"
   ]
  },
  {
   "cell_type": "markdown",
   "metadata": {},
   "source": [
    "## Now that we've found optimal n, let's proceed"
   ]
  },
  {
   "cell_type": "markdown",
   "metadata": {},
   "source": [
    "### Books first\n",
    "\n",
    "First let's set up a dataframe to properly store the results so we can visualize."
   ]
  },
  {
   "cell_type": "code",
   "execution_count": 212,
   "metadata": {
    "collapsed": true
   },
   "outputs": [],
   "source": [
    "columns = ['book1','book2','similarity']"
   ]
  },
  {
   "cell_type": "code",
   "execution_count": 213,
   "metadata": {
    "collapsed": true
   },
   "outputs": [],
   "source": [
    "matrix_book = pd.DataFrame(columns=columns,data=None)"
   ]
  },
  {
   "cell_type": "code",
   "execution_count": 214,
   "metadata": {
    "scrolled": false
   },
   "outputs": [],
   "source": [
    "books_comparison = compare_files(dir_b,ngram_size=5,threshold=0)\n",
    "counter = 0\n",
    "\n",
    "for k,v in books_comparison.items():\n",
    "    book1, book2 = k.split(',')\n",
    "    similarity_index = v\n",
    "#     print (\"1\")\n",
    "#     print (str(book1) + \" is similar to \" + str(book2) + \n",
    "#            \" with a Similarity Index of \" + '{percent:.3%}'.format(percent=similarity_index) +\"\\n\" +\"\\n\")\n",
    "    data = np.array([book1,book2,similarity_index*100])\n",
    "    matrix_book = matrix_book.append(pd.DataFrame([data], [counter], columns))\n",
    "    counter += 1"
   ]
  },
  {
   "cell_type": "markdown",
   "metadata": {},
   "source": [
    "### Now some data manipulation"
   ]
  },
  {
   "cell_type": "code",
   "execution_count": 243,
   "metadata": {},
   "outputs": [],
   "source": [
    "results_b = matrix_book.sort_values(['book1','book2'],ascending=[1,1])"
   ]
  },
  {
   "cell_type": "code",
   "execution_count": 244,
   "metadata": {
    "scrolled": false
   },
   "outputs": [
    {
     "data": {
      "text/html": [
       "<div>\n",
       "<style>\n",
       "    .dataframe thead tr:only-child th {\n",
       "        text-align: right;\n",
       "    }\n",
       "\n",
       "    .dataframe thead th {\n",
       "        text-align: left;\n",
       "    }\n",
       "\n",
       "    .dataframe tbody tr th {\n",
       "        vertical-align: top;\n",
       "    }\n",
       "</style>\n",
       "<table border=\"1\" class=\"dataframe\">\n",
       "  <thead>\n",
       "    <tr style=\"text-align: right;\">\n",
       "      <th></th>\n",
       "      <th>book1</th>\n",
       "      <th>book2</th>\n",
       "      <th>similarity</th>\n",
       "    </tr>\n",
       "  </thead>\n",
       "  <tbody>\n",
       "    <tr>\n",
       "      <th>0</th>\n",
       "      <td>3boat10.txt</td>\n",
       "      <td>Adventures_of_Sherlock_Holmes.txt</td>\n",
       "      <td>0.06668544590143201</td>\n",
       "    </tr>\n",
       "    <tr>\n",
       "      <th>1</th>\n",
       "      <td>3boat10.txt</td>\n",
       "      <td>Hound_of_the_Baskervilles.txt</td>\n",
       "      <td>0.04186663151937107</td>\n",
       "    </tr>\n",
       "    <tr>\n",
       "      <th>2</th>\n",
       "      <td>3boat10.txt</td>\n",
       "      <td>Return_of_Sherlock_Holmes.txt</td>\n",
       "      <td>0.04568773807164718</td>\n",
       "    </tr>\n",
       "    <tr>\n",
       "      <th>3</th>\n",
       "      <td>Adventures_of_Sherlock_Holmes.txt</td>\n",
       "      <td>Hound_of_the_Baskervilles.txt</td>\n",
       "      <td>1.8384017677636704</td>\n",
       "    </tr>\n",
       "    <tr>\n",
       "      <th>4</th>\n",
       "      <td>Adventures_of_Sherlock_Holmes.txt</td>\n",
       "      <td>Return_of_Sherlock_Holmes.txt</td>\n",
       "      <td>1.5270746202949592</td>\n",
       "    </tr>\n",
       "    <tr>\n",
       "      <th>5</th>\n",
       "      <td>Hound_of_the_Baskervilles.txt</td>\n",
       "      <td>Return_of_Sherlock_Holmes.txt</td>\n",
       "      <td>1.7962481962481962</td>\n",
       "    </tr>\n",
       "  </tbody>\n",
       "</table>\n",
       "</div>"
      ],
      "text/plain": [
       "                               book1                              book2  \\\n",
       "0                        3boat10.txt  Adventures_of_Sherlock_Holmes.txt   \n",
       "1                        3boat10.txt      Hound_of_the_Baskervilles.txt   \n",
       "2                        3boat10.txt      Return_of_Sherlock_Holmes.txt   \n",
       "3  Adventures_of_Sherlock_Holmes.txt      Hound_of_the_Baskervilles.txt   \n",
       "4  Adventures_of_Sherlock_Holmes.txt      Return_of_Sherlock_Holmes.txt   \n",
       "5      Hound_of_the_Baskervilles.txt      Return_of_Sherlock_Holmes.txt   \n",
       "\n",
       "            similarity  \n",
       "0  0.06668544590143201  \n",
       "1  0.04186663151937107  \n",
       "2  0.04568773807164718  \n",
       "3   1.8384017677636704  \n",
       "4   1.5270746202949592  \n",
       "5   1.7962481962481962  "
      ]
     },
     "execution_count": 244,
     "metadata": {},
     "output_type": "execute_result"
    }
   ],
   "source": [
    "results_b = results_b.reset_index(drop=True)\n",
    "results_b"
   ]
  },
  {
   "cell_type": "code",
   "execution_count": 245,
   "metadata": {},
   "outputs": [],
   "source": [
    "results_b = results_b.pivot(index='book1',\n",
    "                            columns='book2',\n",
    "                            values='similarity')\n",
    "results_b = results_b[results_b.columns].astype(float)  # or int"
   ]
  },
  {
   "cell_type": "code",
   "execution_count": 248,
   "metadata": {
    "scrolled": false
   },
   "outputs": [
    {
     "name": "stdout",
     "output_type": "stream",
     "text": [
      "book2                              Adventures_of_Sherlock_Holmes.txt  \\\n",
      "book1                                                                  \n",
      "3boat10.txt                                                 0.066685   \n",
      "Adventures_of_Sherlock_Holmes.txt                                NaN   \n",
      "Hound_of_the_Baskervilles.txt                                    NaN   \n",
      "\n",
      "book2                              Hound_of_the_Baskervilles.txt  \\\n",
      "book1                                                              \n",
      "3boat10.txt                                             0.041867   \n",
      "Adventures_of_Sherlock_Holmes.txt                       1.838402   \n",
      "Hound_of_the_Baskervilles.txt                                NaN   \n",
      "\n",
      "book2                              Return_of_Sherlock_Holmes.txt  \n",
      "book1                                                             \n",
      "3boat10.txt                                             0.045688  \n",
      "Adventures_of_Sherlock_Holmes.txt                       1.527075  \n",
      "Hound_of_the_Baskervilles.txt                           1.796248  \n"
     ]
    }
   ],
   "source": [
    "print(results_b)"
   ]
  },
  {
   "cell_type": "code",
   "execution_count": 276,
   "metadata": {
    "scrolled": true
   },
   "outputs": [
    {
     "data": {
      "image/png": "[encoded data removed]",
      "text/plain": [
       "<matplotlib.figure.Figure at 0x111ce3b38>"
      ]
     },
     "metadata": {},
     "output_type": "display_data"
    }
   ],
   "source": [
    "sns.heatmap(data=results_b,vmin=0, vmax=5)\n",
    "plt.title(\"Book Heatmap\")\n",
    "plt.show()"
   ]
  },
  {
   "cell_type": "markdown",
   "metadata": {},
   "source": [
    "### Discussion\n",
    "\n",
    "While the texts themselves show little similarity the Sherlock holmes did share a much higher level than compared to the boat text which makes sense!\n",
    "\n",
    "All in all, the results make sense!"
   ]
  },
  {
   "cell_type": "markdown",
   "metadata": {},
   "source": [
    "## Articles second"
   ]
  },
  {
   "cell_type": "code",
   "execution_count": 286,
   "metadata": {
    "collapsed": true
   },
   "outputs": [],
   "source": [
    "columns_a = ['art1','art2','similarity']"
   ]
  },
  {
   "cell_type": "code",
   "execution_count": 287,
   "metadata": {
    "collapsed": true
   },
   "outputs": [],
   "source": [
    "matrix_a = pd.DataFrame(columns=columns_a,data=None)"
   ]
  },
  {
   "cell_type": "code",
   "execution_count": 288,
   "metadata": {
    "collapsed": true,
    "scrolled": false
   },
   "outputs": [],
   "source": [
    "articles_comparison = compare_files(dir_a,ngram_size=8,threshold=0)\n",
    "counter = 0\n",
    "\n",
    "for k,v in articles_comparison.items():\n",
    "    art1, art2 = k.split(',')\n",
    "    similarity_index = v\n",
    "    data = np.array([art1,art2,similarity_index*100])\n",
    "    matrix_a = matrix_a.append(pd.DataFrame([data], [counter], columns_a))\n",
    "    counter += 1"
   ]
  },
  {
   "cell_type": "markdown",
   "metadata": {},
   "source": [
    "### Now some data manipulation"
   ]
  },
  {
   "cell_type": "code",
   "execution_count": 289,
   "metadata": {},
   "outputs": [],
   "source": [
    "results_a = matrix_a.sort_values(['art1','art2'],ascending=[1,1])"
   ]
  },
  {
   "cell_type": "code",
   "execution_count": 290,
   "metadata": {
    "scrolled": true
   },
   "outputs": [
    {
     "data": {
      "text/html": [
       "<div>\n",
       "<style>\n",
       "    .dataframe thead tr:only-child th {\n",
       "        text-align: right;\n",
       "    }\n",
       "\n",
       "    .dataframe thead th {\n",
       "        text-align: left;\n",
       "    }\n",
       "\n",
       "    .dataframe tbody tr th {\n",
       "        vertical-align: top;\n",
       "    }\n",
       "</style>\n",
       "<table border=\"1\" class=\"dataframe\">\n",
       "  <thead>\n",
       "    <tr style=\"text-align: right;\">\n",
       "      <th></th>\n",
       "      <th>art1</th>\n",
       "      <th>art2</th>\n",
       "      <th>similarity</th>\n",
       "    </tr>\n",
       "  </thead>\n",
       "  <tbody>\n",
       "    <tr>\n",
       "      <th>0</th>\n",
       "      <td>article10.txt</td>\n",
       "      <td>article13.txt</td>\n",
       "      <td>12.628865979381443</td>\n",
       "    </tr>\n",
       "    <tr>\n",
       "      <th>1</th>\n",
       "      <td>article10.txt</td>\n",
       "      <td>article14.txt</td>\n",
       "      <td>0.468384074941452</td>\n",
       "    </tr>\n",
       "    <tr>\n",
       "      <th>2</th>\n",
       "      <td>article10.txt</td>\n",
       "      <td>article6.txt</td>\n",
       "      <td>3.5667107001321003</td>\n",
       "    </tr>\n",
       "    <tr>\n",
       "      <th>3</th>\n",
       "      <td>article14.txt</td>\n",
       "      <td>article6.txt</td>\n",
       "      <td>3.2692307692307696</td>\n",
       "    </tr>\n",
       "    <tr>\n",
       "      <th>4</th>\n",
       "      <td>article16.txt</td>\n",
       "      <td>article17.txt</td>\n",
       "      <td>67.67676767676768</td>\n",
       "    </tr>\n",
       "    <tr>\n",
       "      <th>5</th>\n",
       "      <td>article26.txt</td>\n",
       "      <td>article28.txt</td>\n",
       "      <td>2.73972602739726</td>\n",
       "    </tr>\n",
       "    <tr>\n",
       "      <th>6</th>\n",
       "      <td>article26.txt</td>\n",
       "      <td>article31.txt</td>\n",
       "      <td>2.684563758389262</td>\n",
       "    </tr>\n",
       "    <tr>\n",
       "      <th>7</th>\n",
       "      <td>article28.txt</td>\n",
       "      <td>article31.txt</td>\n",
       "      <td>1.6666666666666667</td>\n",
       "    </tr>\n",
       "  </tbody>\n",
       "</table>\n",
       "</div>"
      ],
      "text/plain": [
       "            art1           art2          similarity\n",
       "0  article10.txt  article13.txt  12.628865979381443\n",
       "1  article10.txt  article14.txt   0.468384074941452\n",
       "2  article10.txt   article6.txt  3.5667107001321003\n",
       "3  article14.txt   article6.txt  3.2692307692307696\n",
       "4  article16.txt  article17.txt   67.67676767676768\n",
       "5  article26.txt  article28.txt    2.73972602739726\n",
       "6  article26.txt  article31.txt   2.684563758389262\n",
       "7  article28.txt  article31.txt  1.6666666666666667"
      ]
     },
     "execution_count": 290,
     "metadata": {},
     "output_type": "execute_result"
    }
   ],
   "source": [
    "results_a = results_a.reset_index(drop=True)\n",
    "results_a"
   ]
  },
  {
   "cell_type": "code",
   "execution_count": 291,
   "metadata": {
    "collapsed": true
   },
   "outputs": [],
   "source": [
    "results_a = results_a.pivot(index='art1',\n",
    "                            columns='art2',\n",
    "                            values='similarity')\n",
    "results_a = results_a[results_a.columns].astype(float)  # or int"
   ]
  },
  {
   "cell_type": "code",
   "execution_count": 292,
   "metadata": {
    "scrolled": false
   },
   "outputs": [
    {
     "name": "stdout",
     "output_type": "stream",
     "text": [
      "art2           article13.txt  article14.txt  article17.txt  article28.txt  \\\n",
      "art1                                                                        \n",
      "article10.txt      12.628866       0.468384            NaN            NaN   \n",
      "article14.txt            NaN            NaN            NaN            NaN   \n",
      "article16.txt            NaN            NaN      67.676768            NaN   \n",
      "article26.txt            NaN            NaN            NaN       2.739726   \n",
      "article28.txt            NaN            NaN            NaN            NaN   \n",
      "\n",
      "art2           article31.txt  article6.txt  \n",
      "art1                                        \n",
      "article10.txt            NaN      3.566711  \n",
      "article14.txt            NaN      3.269231  \n",
      "article16.txt            NaN           NaN  \n",
      "article26.txt       2.684564           NaN  \n",
      "article28.txt       1.666667           NaN  \n"
     ]
    }
   ],
   "source": [
    "print(results_a)"
   ]
  },
  {
   "cell_type": "code",
   "execution_count": 293,
   "metadata": {
    "scrolled": true
   },
   "outputs": [
    {
     "data": {
      "image/png": "[encoded data removed]",
      "text/plain": [
       "<matplotlib.figure.Figure at 0x111e46fd0>"
      ]
     },
     "metadata": {},
     "output_type": "display_data"
    }
   ],
   "source": [
    "sns.heatmap(data=results_a,vmin=0, vmax=100)\n",
    "plt.title(\"Article_heatmap\")\n",
    "plt.show()"
   ]
  },
  {
   "cell_type": "markdown",
   "metadata": {},
   "source": [
    "### Discussion\n",
    "\n",
    "We can see that the articles in general show much higher similarity scoresthan the books (scale of y axis is 0-100 now!). However, the vast majority of articles show little similarity at all, which is interesting. Given the shorter format vs the books, it seems highly likely to have no overlap is the subjects where completely different"
   ]
  },
  {
   "cell_type": "code",
   "execution_count": null,
   "metadata": {
    "collapsed": true
   },
   "outputs": [],
   "source": []
  }
 ],
 "metadata": {
  "kernelspec": {
   "display_name": "Python [conda root]",
   "language": "python",
   "name": "conda-root-py"
  },
  "language_info": {
   "codemirror_mode": {
    "name": "ipython",
    "version": 3
   },
   "file_extension": ".py",
   "mimetype": "text/x-python",
   "name": "python",
   "nbconvert_exporter": "python",
   "pygments_lexer": "ipython3",
   "version": "3.5.4"
  }
 },
 "nbformat": 4,
 "nbformat_minor": 2
}
