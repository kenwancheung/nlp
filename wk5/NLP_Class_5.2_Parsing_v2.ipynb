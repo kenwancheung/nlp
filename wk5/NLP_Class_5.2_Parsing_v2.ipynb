{
 "cells": [
  {
   "cell_type": "markdown",
   "metadata": {},
   "source": [
    "## Dependency Parsing with Stanford NLP"
   ]
  },
  {
   "cell_type": "code",
   "execution_count": 1,
   "metadata": {},
   "outputs": [],
   "source": [
    "#pip install graphviz\n",
    "#!conda install python-graphviz"
   ]
  },
  {
   "cell_type": "markdown",
   "metadata": {},
   "source": [
    "Alternatively, you can download an install Graphviz: http://www.graphviz.org/download/"
   ]
  },
  {
   "cell_type": "code",
   "execution_count": 2,
   "metadata": {},
   "outputs": [
    {
     "name": "stdout",
     "output_type": "stream",
     "text": [
      "3.5.4 |Anaconda custom (64-bit)| (default, Aug 14 2017, 13:41:13) [MSC v.1900 64 bit (AMD64)]\n"
     ]
    }
   ],
   "source": [
    "import sys\n",
    "print(sys.version)"
   ]
  },
  {
   "cell_type": "markdown",
   "metadata": {},
   "source": [
    "## Leveraging Stanford NLP"
   ]
  },
  {
   "cell_type": "markdown",
   "metadata": {},
   "source": [
    "### Installing and configuring Stanford NLP\n",
    "https://blog.manash.me/configuring-stanford-parser-and-stanford-ner-tagger-with-nltk-in-python-on-windows-f685483c374a"
   ]
  },
  {
   "cell_type": "code",
   "execution_count": 3,
   "metadata": {
    "collapsed": true
   },
   "outputs": [],
   "source": [
    "import os\n",
    "from graphviz import Source\n",
    "\n",
    "java_path = \"C:\\ProgramData\\Oracle\\Java\\javapath\\java.exe\"\n",
    "os.environ['JAVAHOME'] = java_path\n",
    "\n",
    "# Change the path according to your system\n",
    "stanford_classifier = 'C:\\StanfordNLP\\stanford-ner-2017-06-09\\classifiers\\english.all.3class.distsim.crf.ser.gz'\n",
    "stanford_ner_path = 'C:\\StanfordNLP\\stanford-ner-2017-06-09\\stanford-ner.jar'\n",
    "\n",
    "stanford_parser_path = 'C:\\StanfordNLP\\stanford-parser-full-2017-06-09\\stanford-parser.jar'\n",
    "stanford_parser_models_path = 'C:\\StanfordNLP\\stanford-parser-full-2017-06-09\\stanford-parser-3.8.0-models.jar'\n",
    "\n",
    "from nltk.parse.stanford import StanfordDependencyParser\n",
    "from nltk.tag.stanford import StanfordNERTagger\n",
    "\n",
    "# Creating Tagger Object\n",
    "st = StanfordNERTagger(stanford_classifier, stanford_ner_path, encoding='utf-8')\n",
    "sdp = StanfordDependencyParser(path_to_jar=stanford_parser_path, path_to_models_jar=stanford_parser_models_path)"
   ]
  },
  {
   "cell_type": "markdown",
   "metadata": {
    "collapsed": true
   },
   "source": [
    "__Dependency__ is the notion that linguistic units, e.g. words, are connected to each other by directed links. The (finite) verb is taken to be the structural center of clause structure. All other syntactic units (words) are either directly or indirectly connected to the verb in terms of the directed links, which are called dependencies.  https://en.wikipedia.org/wiki/Dependency_grammar"
   ]
  },
  {
   "cell_type": "code",
   "execution_count": 4,
   "metadata": {},
   "outputs": [
    {
     "name": "stdout",
     "output_type": "stream",
     "text": [
      "Wall time: 1.72 s\n"
     ]
    },
    {
     "data": {
      "text/plain": [
       "[(('shot', 'VBD'), 'nsubj', ('I', 'PRP')),\n",
       " (('shot', 'VBD'), 'dobj', ('elephant', 'NN')),\n",
       " (('elephant', 'NN'), 'det', ('an', 'DT')),\n",
       " (('shot', 'VBD'), 'nmod', ('pajamas', 'NNS')),\n",
       " (('pajamas', 'NNS'), 'case', ('in', 'IN')),\n",
       " (('pajamas', 'NNS'), 'nmod:poss', ('my', 'PRP$'))]"
      ]
     },
     "execution_count": 4,
     "metadata": {},
     "output_type": "execute_result"
    }
   ],
   "source": [
    "text = 'I shot an elephant in my pajamas'\n",
    "%time result = sdp.raw_parse(text)\n",
    "dep = next(result)\n",
    "list(dep.triples())"
   ]
  },
  {
   "cell_type": "markdown",
   "metadata": {},
   "source": [
    "Remined on basics syntactic categories (common denotations) in NLP:\n",
    "\n",
    "    np - noun phrase\n",
    "    vp - verb phrase\n",
    "    s - sentence\n",
    "    det - determiner (article)\n",
    "    n - noun\n",
    "    tv - transitive verb (takes an object)\n",
    "    iv - intransitive verb\n",
    "    prep - preposition\n",
    "    pp - prepositional phrase\n",
    "    adj - adjective "
   ]
  },
  {
   "cell_type": "code",
   "execution_count": 5,
   "metadata": {},
   "outputs": [
    {
     "name": "stdout",
     "output_type": "stream",
     "text": [
      "nsubj ( shot ,  I )\n",
      "dobj ( shot ,  elephant )\n",
      "det ( elephant ,  an )\n",
      "nmod ( shot ,  pajamas )\n",
      "case ( pajamas ,  in )\n",
      "nmod:poss ( pajamas ,  my )\n"
     ]
    }
   ],
   "source": [
    "for triple in dep.triples():\n",
    "    print (triple[1],\"(\",triple[0][0],\", \",triple[2][0],\")\")"
   ]
  },
  {
   "cell_type": "markdown",
   "metadata": {},
   "source": [
    "In __typed dependency structure__, relations among the words are illustrated above the sentence with directed, labeled arcs from heads to dependents."
   ]
  },
  {
   "cell_type": "code",
   "execution_count": 6,
   "metadata": {},
   "outputs": [
    {
     "data": {
      "image/svg+xml": [
       "<?xml version=\"1.0\" encoding=\"UTF-8\" standalone=\"no\"?>\r\n",
       "<!DOCTYPE svg PUBLIC \"-//W3C//DTD SVG 1.1//EN\"\r\n",
       " \"http://www.w3.org/Graphics/SVG/1.1/DTD/svg11.dtd\">\r\n",
       "<!-- Generated by graphviz version 2.38.0 (20140413.2041)\r\n",
       " -->\r\n",
       "<!-- Title: G Pages: 1 -->\r\n",
       "<svg width=\"316pt\" height=\"305pt\"\r\n",
       " viewBox=\"0.00 0.00 316.00 305.00\" xmlns=\"http://www.w3.org/2000/svg\" xmlns:xlink=\"http://www.w3.org/1999/xlink\">\r\n",
       "<g id=\"graph0\" class=\"graph\" transform=\"scale(1 1) rotate(0) translate(4 301)\">\r\n",
       "<title>G</title>\r\n",
       "<polygon fill=\"white\" stroke=\"none\" points=\"-4,4 -4,-301 312,-301 312,4 -4,4\"/>\r\n",
       "<!-- 0 -->\r\n",
       "<g id=\"node1\" class=\"node\"><title>0</title>\r\n",
       "<text text-anchor=\"middle\" x=\"113\" y=\"-275.3\" font-family=\"Times New Roman,serif\" font-size=\"14.00\">0 (None)</text>\r\n",
       "</g>\r\n",
       "<!-- 2 -->\r\n",
       "<g id=\"node2\" class=\"node\"><title>2</title>\r\n",
       "<text text-anchor=\"middle\" x=\"113\" y=\"-188.3\" font-family=\"Times New Roman,serif\" font-size=\"14.00\">2 (shot)</text>\r\n",
       "</g>\r\n",
       "<!-- 0&#45;&gt;2 -->\r\n",
       "<g id=\"edge1\" class=\"edge\"><title>0&#45;&gt;2</title>\r\n",
       "<path fill=\"none\" stroke=\"black\" d=\"M113,-260.799C113,-249.163 113,-233.548 113,-220.237\"/>\r\n",
       "<polygon fill=\"black\" stroke=\"black\" points=\"116.5,-220.175 113,-210.175 109.5,-220.175 116.5,-220.175\"/>\r\n",
       "<text text-anchor=\"middle\" x=\"125\" y=\"-231.8\" font-family=\"Times New Roman,serif\" font-size=\"14.00\">root</text>\r\n",
       "</g>\r\n",
       "<!-- 1 -->\r\n",
       "<g id=\"node3\" class=\"node\"><title>1</title>\r\n",
       "<text text-anchor=\"middle\" x=\"27\" y=\"-101.3\" font-family=\"Times New Roman,serif\" font-size=\"14.00\">1 (I)</text>\r\n",
       "</g>\r\n",
       "<!-- 2&#45;&gt;1 -->\r\n",
       "<g id=\"edge4\" class=\"edge\"><title>2&#45;&gt;1</title>\r\n",
       "<path fill=\"none\" stroke=\"black\" d=\"M95.5966,-173.799C83.0073,-161.356 65.8157,-144.364 51.7927,-130.504\"/>\r\n",
       "<polygon fill=\"black\" stroke=\"black\" points=\"53.9502,-127.716 44.3775,-123.175 49.0295,-132.694 53.9502,-127.716\"/>\r\n",
       "<text text-anchor=\"middle\" x=\"91.5\" y=\"-144.8\" font-family=\"Times New Roman,serif\" font-size=\"14.00\">nsubj</text>\r\n",
       "</g>\r\n",
       "<!-- 4 -->\r\n",
       "<g id=\"node4\" class=\"node\"><title>4</title>\r\n",
       "<text text-anchor=\"middle\" x=\"113\" y=\"-101.3\" font-family=\"Times New Roman,serif\" font-size=\"14.00\">4 (elephant)</text>\r\n",
       "</g>\r\n",
       "<!-- 2&#45;&gt;4 -->\r\n",
       "<g id=\"edge2\" class=\"edge\"><title>2&#45;&gt;4</title>\r\n",
       "<path fill=\"none\" stroke=\"black\" d=\"M113,-173.799C113,-162.163 113,-146.548 113,-133.237\"/>\r\n",
       "<polygon fill=\"black\" stroke=\"black\" points=\"116.5,-133.175 113,-123.175 109.5,-133.175 116.5,-133.175\"/>\r\n",
       "<text text-anchor=\"middle\" x=\"126\" y=\"-144.8\" font-family=\"Times New Roman,serif\" font-size=\"14.00\">dobj</text>\r\n",
       "</g>\r\n",
       "<!-- 7 -->\r\n",
       "<g id=\"node5\" class=\"node\"><title>7</title>\r\n",
       "<text text-anchor=\"middle\" x=\"213\" y=\"-101.3\" font-family=\"Times New Roman,serif\" font-size=\"14.00\">7 (pajamas)</text>\r\n",
       "</g>\r\n",
       "<!-- 2&#45;&gt;7 -->\r\n",
       "<g id=\"edge3\" class=\"edge\"><title>2&#45;&gt;7</title>\r\n",
       "<path fill=\"none\" stroke=\"black\" d=\"M133.236,-173.799C148.146,-161.126 168.608,-143.734 185.073,-129.738\"/>\r\n",
       "<polygon fill=\"black\" stroke=\"black\" points=\"187.441,-132.319 192.794,-123.175 182.907,-126.985 187.441,-132.319\"/>\r\n",
       "<text text-anchor=\"middle\" x=\"185.5\" y=\"-144.8\" font-family=\"Times New Roman,serif\" font-size=\"14.00\">nmod</text>\r\n",
       "</g>\r\n",
       "<!-- 3 -->\r\n",
       "<g id=\"node6\" class=\"node\"><title>3</title>\r\n",
       "<text text-anchor=\"middle\" x=\"113\" y=\"-14.3\" font-family=\"Times New Roman,serif\" font-size=\"14.00\">3 (an)</text>\r\n",
       "</g>\r\n",
       "<!-- 4&#45;&gt;3 -->\r\n",
       "<g id=\"edge5\" class=\"edge\"><title>4&#45;&gt;3</title>\r\n",
       "<path fill=\"none\" stroke=\"black\" d=\"M113,-86.799C113,-75.1626 113,-59.5479 113,-46.2368\"/>\r\n",
       "<polygon fill=\"black\" stroke=\"black\" points=\"116.5,-46.1754 113,-36.1754 109.5,-46.1755 116.5,-46.1754\"/>\r\n",
       "<text text-anchor=\"middle\" x=\"122\" y=\"-57.8\" font-family=\"Times New Roman,serif\" font-size=\"14.00\">det</text>\r\n",
       "</g>\r\n",
       "<!-- 5 -->\r\n",
       "<g id=\"node7\" class=\"node\"><title>5</title>\r\n",
       "<text text-anchor=\"middle\" x=\"199\" y=\"-14.3\" font-family=\"Times New Roman,serif\" font-size=\"14.00\">5 (in)</text>\r\n",
       "</g>\r\n",
       "<!-- 7&#45;&gt;5 -->\r\n",
       "<g id=\"edge6\" class=\"edge\"><title>7&#45;&gt;5</title>\r\n",
       "<path fill=\"none\" stroke=\"black\" d=\"M210.167,-86.799C208.25,-75.1626 205.678,-59.5479 203.486,-46.2368\"/>\r\n",
       "<polygon fill=\"black\" stroke=\"black\" points=\"206.908,-45.4737 201.829,-36.1754 200.001,-46.6113 206.908,-45.4737\"/>\r\n",
       "<text text-anchor=\"middle\" x=\"218.5\" y=\"-57.8\" font-family=\"Times New Roman,serif\" font-size=\"14.00\">case</text>\r\n",
       "</g>\r\n",
       "<!-- 6 -->\r\n",
       "<g id=\"node8\" class=\"node\"><title>6</title>\r\n",
       "<text text-anchor=\"middle\" x=\"271\" y=\"-14.3\" font-family=\"Times New Roman,serif\" font-size=\"14.00\">6 (my)</text>\r\n",
       "</g>\r\n",
       "<!-- 7&#45;&gt;6 -->\r\n",
       "<g id=\"edge7\" class=\"edge\"><title>7&#45;&gt;6</title>\r\n",
       "<path fill=\"none\" stroke=\"black\" d=\"M224.737,-86.799C232.992,-74.7017 244.18,-58.3049 253.486,-44.6665\"/>\r\n",
       "<polygon fill=\"black\" stroke=\"black\" points=\"256.535,-46.4084 259.28,-36.1754 250.753,-42.4629 256.535,-46.4084\"/>\r\n",
       "<text text-anchor=\"middle\" x=\"276.5\" y=\"-57.8\" font-family=\"Times New Roman,serif\" font-size=\"14.00\">nmod:poss</text>\r\n",
       "</g>\r\n",
       "</g>\r\n",
       "</svg>\r\n"
      ],
      "text/plain": [
       "<graphviz.files.Source at 0x10c90208>"
      ]
     },
     "execution_count": 6,
     "metadata": {},
     "output_type": "execute_result"
    }
   ],
   "source": [
    "result = list(sdp.raw_parse(text))\n",
    "dep_tree_dot_repr = [parse for parse in result][0].to_dot()\n",
    "Source(dep_tree_dot_repr)"
   ]
  },
  {
   "cell_type": "code",
   "execution_count": 12,
   "metadata": {},
   "outputs": [
    {
     "data": {
      "image/svg+xml": [
       "<?xml version=\"1.0\" encoding=\"UTF-8\" standalone=\"no\"?>\r\n",
       "<!DOCTYPE svg PUBLIC \"-//W3C//DTD SVG 1.1//EN\"\r\n",
       " \"http://www.w3.org/Graphics/SVG/1.1/DTD/svg11.dtd\">\r\n",
       "<!-- Generated by graphviz version 2.38.0 (20140413.2041)\r\n",
       " -->\r\n",
       "<!-- Title: G Pages: 1 -->\r\n",
       "<svg width=\"171pt\" height=\"305pt\"\r\n",
       " viewBox=\"0.00 0.00 170.50 305.00\" xmlns=\"http://www.w3.org/2000/svg\" xmlns:xlink=\"http://www.w3.org/1999/xlink\">\r\n",
       "<g id=\"graph0\" class=\"graph\" transform=\"scale(1 1) rotate(0) translate(4 301)\">\r\n",
       "<title>G</title>\r\n",
       "<polygon fill=\"white\" stroke=\"none\" points=\"-4,4 -4,-301 166.5,-301 166.5,4 -4,4\"/>\r\n",
       "<!-- 0 -->\r\n",
       "<g id=\"node1\" class=\"node\"><title>0</title>\r\n",
       "<text text-anchor=\"middle\" x=\"63.5\" y=\"-275.3\" font-family=\"Times New Roman,serif\" font-size=\"14.00\">0 (None)</text>\r\n",
       "</g>\r\n",
       "<!-- 2 -->\r\n",
       "<g id=\"node2\" class=\"node\"><title>2</title>\r\n",
       "<text text-anchor=\"middle\" x=\"63.5\" y=\"-188.3\" font-family=\"Times New Roman,serif\" font-size=\"14.00\">2 (looks)</text>\r\n",
       "</g>\r\n",
       "<!-- 0&#45;&gt;2 -->\r\n",
       "<g id=\"edge1\" class=\"edge\"><title>0&#45;&gt;2</title>\r\n",
       "<path fill=\"none\" stroke=\"black\" d=\"M63.5,-260.799C63.5,-249.163 63.5,-233.548 63.5,-220.237\"/>\r\n",
       "<polygon fill=\"black\" stroke=\"black\" points=\"67.0001,-220.175 63.5,-210.175 60.0001,-220.175 67.0001,-220.175\"/>\r\n",
       "<text text-anchor=\"middle\" x=\"75.5\" y=\"-231.8\" font-family=\"Times New Roman,serif\" font-size=\"14.00\">root</text>\r\n",
       "</g>\r\n",
       "<!-- 1 -->\r\n",
       "<g id=\"node3\" class=\"node\"><title>1</title>\r\n",
       "<text text-anchor=\"middle\" x=\"28.5\" y=\"-101.3\" font-family=\"Times New Roman,serif\" font-size=\"14.00\">1 (She)</text>\r\n",
       "</g>\r\n",
       "<!-- 2&#45;&gt;1 -->\r\n",
       "<g id=\"edge3\" class=\"edge\"><title>2&#45;&gt;1</title>\r\n",
       "<path fill=\"none\" stroke=\"black\" d=\"M54.6556,-173.721C51.9132,-168.125 48.9661,-161.851 46.5,-156 43.3609,-148.552 40.2623,-140.345 37.544,-132.772\"/>\r\n",
       "<polygon fill=\"black\" stroke=\"black\" points=\"40.8331,-131.575 34.2183,-123.299 34.2283,-133.894 40.8331,-131.575\"/>\r\n",
       "<text text-anchor=\"middle\" x=\"62\" y=\"-144.8\" font-family=\"Times New Roman,serif\" font-size=\"14.00\">nsubj</text>\r\n",
       "</g>\r\n",
       "<!-- 4 -->\r\n",
       "<g id=\"node4\" class=\"node\"><title>4</title>\r\n",
       "<text text-anchor=\"middle\" x=\"116.5\" y=\"-101.3\" font-family=\"Times New Roman,serif\" font-size=\"14.00\">4 (beautiful)</text>\r\n",
       "</g>\r\n",
       "<!-- 2&#45;&gt;4 -->\r\n",
       "<g id=\"edge2\" class=\"edge\"><title>2&#45;&gt;4</title>\r\n",
       "<path fill=\"none\" stroke=\"black\" d=\"M74.2253,-173.799C81.7683,-161.702 91.9923,-145.305 100.496,-131.667\"/>\r\n",
       "<polygon fill=\"black\" stroke=\"black\" points=\"103.47,-133.513 105.791,-123.175 97.5296,-129.809 103.47,-133.513\"/>\r\n",
       "<text text-anchor=\"middle\" x=\"112.5\" y=\"-144.8\" font-family=\"Times New Roman,serif\" font-size=\"14.00\">xcomp</text>\r\n",
       "</g>\r\n",
       "<!-- 3 -->\r\n",
       "<g id=\"node5\" class=\"node\"><title>3</title>\r\n",
       "<text text-anchor=\"middle\" x=\"116.5\" y=\"-14.3\" font-family=\"Times New Roman,serif\" font-size=\"14.00\">3 (very)</text>\r\n",
       "</g>\r\n",
       "<!-- 4&#45;&gt;3 -->\r\n",
       "<g id=\"edge4\" class=\"edge\"><title>4&#45;&gt;3</title>\r\n",
       "<path fill=\"none\" stroke=\"black\" d=\"M116.5,-86.799C116.5,-75.1626 116.5,-59.5479 116.5,-46.2368\"/>\r\n",
       "<polygon fill=\"black\" stroke=\"black\" points=\"120,-46.1754 116.5,-36.1754 113,-46.1755 120,-46.1754\"/>\r\n",
       "<text text-anchor=\"middle\" x=\"139.5\" y=\"-57.8\" font-family=\"Times New Roman,serif\" font-size=\"14.00\">advmod</text>\r\n",
       "</g>\r\n",
       "</g>\r\n",
       "</svg>\r\n"
      ],
      "text/plain": [
       "<graphviz.files.Source at 0x10c905c0>"
      ]
     },
     "execution_count": 12,
     "metadata": {},
     "output_type": "execute_result"
    }
   ],
   "source": [
    "text = 'She looks very beautiful'\n",
    "result = list(sdp.raw_parse(text))\n",
    "dep_tree_dot_repr = [parse for parse in result][0].to_dot()\n",
    "Source(dep_tree_dot_repr)"
   ]
  },
  {
   "cell_type": "code",
   "execution_count": 13,
   "metadata": {},
   "outputs": [
    {
     "data": {
      "text/plain": [
       "[(('fox', 'NN'), 'det', ('The', 'DT')),\n",
       " (('fox', 'NN'), 'amod', ('quick', 'JJ')),\n",
       " (('fox', 'NN'), 'amod', ('brown', 'JJ')),\n",
       " (('fox', 'NN'), 'dep', ('jumps', 'NNS')),\n",
       " (('jumps', 'NNS'), 'nmod', ('dog', 'NN')),\n",
       " (('dog', 'NN'), 'case', ('over', 'IN')),\n",
       " (('dog', 'NN'), 'det', ('the', 'DT')),\n",
       " (('dog', 'NN'), 'amod', ('lazy', 'JJ'))]"
      ]
     },
     "execution_count": 13,
     "metadata": {},
     "output_type": "execute_result"
    }
   ],
   "source": [
    "text = 'The quick brown fox jumps over the lazy dog'\n",
    "result = sdp.raw_parse(text)\n",
    "dep = next(result)\n",
    "list(dep.triples())"
   ]
  },
  {
   "cell_type": "code",
   "execution_count": 14,
   "metadata": {},
   "outputs": [
    {
     "data": {
      "image/svg+xml": [
       "<?xml version=\"1.0\" encoding=\"UTF-8\" standalone=\"no\"?>\r\n",
       "<!DOCTYPE svg PUBLIC \"-//W3C//DTD SVG 1.1//EN\"\r\n",
       " \"http://www.w3.org/Graphics/SVG/1.1/DTD/svg11.dtd\">\r\n",
       "<!-- Generated by graphviz version 2.38.0 (20140413.2041)\r\n",
       " -->\r\n",
       "<!-- Title: G Pages: 1 -->\r\n",
       "<svg width=\"398pt\" height=\"392pt\"\r\n",
       " viewBox=\"0.00 0.00 398.00 392.00\" xmlns=\"http://www.w3.org/2000/svg\" xmlns:xlink=\"http://www.w3.org/1999/xlink\">\r\n",
       "<g id=\"graph0\" class=\"graph\" transform=\"scale(1 1) rotate(0) translate(4 388)\">\r\n",
       "<title>G</title>\r\n",
       "<polygon fill=\"white\" stroke=\"none\" points=\"-4,4 -4,-388 394,-388 394,4 -4,4\"/>\r\n",
       "<!-- 0 -->\r\n",
       "<g id=\"node1\" class=\"node\"><title>0</title>\r\n",
       "<text text-anchor=\"middle\" x=\"154\" y=\"-362.3\" font-family=\"Times New Roman,serif\" font-size=\"14.00\">0 (None)</text>\r\n",
       "</g>\r\n",
       "<!-- 4 -->\r\n",
       "<g id=\"node2\" class=\"node\"><title>4</title>\r\n",
       "<text text-anchor=\"middle\" x=\"154\" y=\"-275.3\" font-family=\"Times New Roman,serif\" font-size=\"14.00\">4 (fox)</text>\r\n",
       "</g>\r\n",
       "<!-- 0&#45;&gt;4 -->\r\n",
       "<g id=\"edge1\" class=\"edge\"><title>0&#45;&gt;4</title>\r\n",
       "<path fill=\"none\" stroke=\"black\" d=\"M154,-347.799C154,-336.163 154,-320.548 154,-307.237\"/>\r\n",
       "<polygon fill=\"black\" stroke=\"black\" points=\"157.5,-307.175 154,-297.175 150.5,-307.175 157.5,-307.175\"/>\r\n",
       "<text text-anchor=\"middle\" x=\"166\" y=\"-318.8\" font-family=\"Times New Roman,serif\" font-size=\"14.00\">root</text>\r\n",
       "</g>\r\n",
       "<!-- 1 -->\r\n",
       "<g id=\"node3\" class=\"node\"><title>1</title>\r\n",
       "<text text-anchor=\"middle\" x=\"29\" y=\"-188.3\" font-family=\"Times New Roman,serif\" font-size=\"14.00\">1 (The)</text>\r\n",
       "</g>\r\n",
       "<!-- 4&#45;&gt;1 -->\r\n",
       "<g id=\"edge5\" class=\"edge\"><title>4&#45;&gt;1</title>\r\n",
       "<path fill=\"none\" stroke=\"black\" d=\"M128.704,-260.799C109.728,-247.895 83.5581,-230.099 62.7908,-215.978\"/>\r\n",
       "<polygon fill=\"black\" stroke=\"black\" points=\"64.4954,-212.904 54.258,-210.175 60.5592,-218.693 64.4954,-212.904\"/>\r\n",
       "<text text-anchor=\"middle\" x=\"108\" y=\"-231.8\" font-family=\"Times New Roman,serif\" font-size=\"14.00\">det</text>\r\n",
       "</g>\r\n",
       "<!-- 2 -->\r\n",
       "<g id=\"node4\" class=\"node\"><title>2</title>\r\n",
       "<text text-anchor=\"middle\" x=\"110\" y=\"-188.3\" font-family=\"Times New Roman,serif\" font-size=\"14.00\">2 (quick)</text>\r\n",
       "</g>\r\n",
       "<!-- 4&#45;&gt;2 -->\r\n",
       "<g id=\"edge2\" class=\"edge\"><title>4&#45;&gt;2</title>\r\n",
       "<path fill=\"none\" stroke=\"black\" d=\"M145.096,-260.799C138.893,-248.817 130.508,-232.617 123.488,-219.057\"/>\r\n",
       "<polygon fill=\"black\" stroke=\"black\" points=\"126.596,-217.447 118.891,-210.175 120.38,-220.665 126.596,-217.447\"/>\r\n",
       "<text text-anchor=\"middle\" x=\"151\" y=\"-231.8\" font-family=\"Times New Roman,serif\" font-size=\"14.00\">amod</text>\r\n",
       "</g>\r\n",
       "<!-- 3 -->\r\n",
       "<g id=\"node5\" class=\"node\"><title>3</title>\r\n",
       "<text text-anchor=\"middle\" x=\"198\" y=\"-188.3\" font-family=\"Times New Roman,serif\" font-size=\"14.00\">3 (brown)</text>\r\n",
       "</g>\r\n",
       "<!-- 4&#45;&gt;3 -->\r\n",
       "<g id=\"edge3\" class=\"edge\"><title>4&#45;&gt;3</title>\r\n",
       "<path fill=\"none\" stroke=\"black\" d=\"M162.904,-260.799C169.107,-248.817 177.492,-232.617 184.512,-219.057\"/>\r\n",
       "<polygon fill=\"black\" stroke=\"black\" points=\"187.62,-220.665 189.109,-210.175 181.404,-217.447 187.62,-220.665\"/>\r\n",
       "<text text-anchor=\"middle\" x=\"194\" y=\"-231.8\" font-family=\"Times New Roman,serif\" font-size=\"14.00\">amod</text>\r\n",
       "</g>\r\n",
       "<!-- 5 -->\r\n",
       "<g id=\"node6\" class=\"node\"><title>5</title>\r\n",
       "<text text-anchor=\"middle\" x=\"287\" y=\"-188.3\" font-family=\"Times New Roman,serif\" font-size=\"14.00\">5 (jumps)</text>\r\n",
       "</g>\r\n",
       "<!-- 4&#45;&gt;5 -->\r\n",
       "<g id=\"edge4\" class=\"edge\"><title>4&#45;&gt;5</title>\r\n",
       "<path fill=\"none\" stroke=\"black\" d=\"M181.731,-262.383C191.97,-256.471 203.606,-249.579 214,-243 227.499,-234.456 242.078,-224.602 254.631,-215.912\"/>\r\n",
       "<polygon fill=\"black\" stroke=\"black\" points=\"256.754,-218.699 262.961,-210.113 252.754,-212.955 256.754,-218.699\"/>\r\n",
       "<text text-anchor=\"middle\" x=\"247\" y=\"-231.8\" font-family=\"Times New Roman,serif\" font-size=\"14.00\">dep</text>\r\n",
       "</g>\r\n",
       "<!-- 9 -->\r\n",
       "<g id=\"node7\" class=\"node\"><title>9</title>\r\n",
       "<text text-anchor=\"middle\" x=\"287\" y=\"-101.3\" font-family=\"Times New Roman,serif\" font-size=\"14.00\">9 (dog)</text>\r\n",
       "</g>\r\n",
       "<!-- 5&#45;&gt;9 -->\r\n",
       "<g id=\"edge6\" class=\"edge\"><title>5&#45;&gt;9</title>\r\n",
       "<path fill=\"none\" stroke=\"black\" d=\"M287,-173.799C287,-162.163 287,-146.548 287,-133.237\"/>\r\n",
       "<polygon fill=\"black\" stroke=\"black\" points=\"290.5,-133.175 287,-123.175 283.5,-133.175 290.5,-133.175\"/>\r\n",
       "<text text-anchor=\"middle\" x=\"303.5\" y=\"-144.8\" font-family=\"Times New Roman,serif\" font-size=\"14.00\">nmod</text>\r\n",
       "</g>\r\n",
       "<!-- 6 -->\r\n",
       "<g id=\"node8\" class=\"node\"><title>6</title>\r\n",
       "<text text-anchor=\"middle\" x=\"211\" y=\"-14.3\" font-family=\"Times New Roman,serif\" font-size=\"14.00\">6 (over)</text>\r\n",
       "</g>\r\n",
       "<!-- 9&#45;&gt;6 -->\r\n",
       "<g id=\"edge7\" class=\"edge\"><title>9&#45;&gt;6</title>\r\n",
       "<path fill=\"none\" stroke=\"black\" d=\"M271.62,-86.799C260.598,-74.4713 245.583,-57.6787 233.255,-43.8902\"/>\r\n",
       "<polygon fill=\"black\" stroke=\"black\" points=\"235.631,-41.2973 226.357,-36.1754 230.413,-45.9631 235.631,-41.2973\"/>\r\n",
       "<text text-anchor=\"middle\" x=\"265.5\" y=\"-57.8\" font-family=\"Times New Roman,serif\" font-size=\"14.00\">case</text>\r\n",
       "</g>\r\n",
       "<!-- 7 -->\r\n",
       "<g id=\"node9\" class=\"node\"><title>7</title>\r\n",
       "<text text-anchor=\"middle\" x=\"287\" y=\"-14.3\" font-family=\"Times New Roman,serif\" font-size=\"14.00\">7 (the)</text>\r\n",
       "</g>\r\n",
       "<!-- 9&#45;&gt;7 -->\r\n",
       "<g id=\"edge9\" class=\"edge\"><title>9&#45;&gt;7</title>\r\n",
       "<path fill=\"none\" stroke=\"black\" d=\"M287,-86.799C287,-75.1626 287,-59.5479 287,-46.2368\"/>\r\n",
       "<polygon fill=\"black\" stroke=\"black\" points=\"290.5,-46.1754 287,-36.1754 283.5,-46.1755 290.5,-46.1754\"/>\r\n",
       "<text text-anchor=\"middle\" x=\"296\" y=\"-57.8\" font-family=\"Times New Roman,serif\" font-size=\"14.00\">det</text>\r\n",
       "</g>\r\n",
       "<!-- 8 -->\r\n",
       "<g id=\"node10\" class=\"node\"><title>8</title>\r\n",
       "<text text-anchor=\"middle\" x=\"361\" y=\"-14.3\" font-family=\"Times New Roman,serif\" font-size=\"14.00\">8 (lazy)</text>\r\n",
       "</g>\r\n",
       "<!-- 9&#45;&gt;8 -->\r\n",
       "<g id=\"edge8\" class=\"edge\"><title>9&#45;&gt;8</title>\r\n",
       "<path fill=\"none\" stroke=\"black\" d=\"M301.975,-86.799C312.707,-74.4713 327.327,-57.6787 339.331,-43.8902\"/>\r\n",
       "<polygon fill=\"black\" stroke=\"black\" points=\"342.121,-46.0159 346.047,-36.1754 336.841,-41.4195 342.121,-46.0159\"/>\r\n",
       "<text text-anchor=\"middle\" x=\"344\" y=\"-57.8\" font-family=\"Times New Roman,serif\" font-size=\"14.00\">amod</text>\r\n",
       "</g>\r\n",
       "</g>\r\n",
       "</svg>\r\n"
      ],
      "text/plain": [
       "<graphviz.files.Source at 0x10c90f60>"
      ]
     },
     "execution_count": 14,
     "metadata": {},
     "output_type": "execute_result"
    }
   ],
   "source": [
    "result = list(sdp.raw_parse(text))\n",
    "dep_tree_dot_repr = [parse for parse in result][0].to_dot()\n",
    "Source(dep_tree_dot_repr)"
   ]
  },
  {
   "cell_type": "code",
   "execution_count": 9,
   "metadata": {},
   "outputs": [
    {
     "name": "stdout",
     "output_type": "stream",
     "text": [
      "Wall time: 2.44 s\n"
     ]
    },
    {
     "data": {
      "text/plain": [
       "[(('Surging', 'VBG'), 'dobj', ('demand', 'NN')),\n",
       " (('demand', 'NN'), 'amod', ('Chinese', 'JJ')),\n",
       " (('Surging', 'VBG'), 'cc', ('and', 'CC')),\n",
       " (('Surging', 'VBG'), 'conj', ('lifted', 'VBN')),\n",
       " (('lifted', 'VBN'), 'nsubj', ('economy', 'NN')),\n",
       " (('economy', 'NN'), 'det', ('an', 'DT')),\n",
       " (('economy', 'NN'), 'amod', ('improving', 'VBG')),\n",
       " (('economy', 'NN'), 'compound', ('U.S.', 'NNP')),\n",
       " (('lifted', 'VBN'), 'aux', ('have', 'VBP')),\n",
       " (('lifted', 'VBN'), 'dobj', ('sales', 'NNS')),\n",
       " (('sales', 'NNS'), 'nmod', ('machines', 'NNS')),\n",
       " (('machines', 'NNS'), 'case', ('of', 'IN')),\n",
       " (('machines', 'NNS'), 'nmod:poss', ('Caterpillar', 'NNP')),\n",
       " (('Caterpillar', 'NNP'), 'case', (\"'s\", 'POS')),\n",
       " (('machines', 'NNS'), 'amod', ('signature', 'JJ')),\n",
       " (('machines', 'NNS'), 'amod', ('yellow', 'JJ')),\n",
       " (('machines', 'NNS'), 'compound', ('mining', 'NN')),\n",
       " (('mining', 'NN'), 'cc', ('and', 'CC')),\n",
       " (('mining', 'NN'), 'conj', ('construction', 'NN'))]"
      ]
     },
     "execution_count": 9,
     "metadata": {},
     "output_type": "execute_result"
    }
   ],
   "source": [
    "text = \"Surging Chinese demand and an improving U.S. economy have lifted sales of Caterpillar's \\\n",
    "signature yellow mining and construction machines.\"\n",
    "%time result = sdp.raw_parse(text)\n",
    "dep = next(result)\n",
    "list(dep.triples())"
   ]
  },
  {
   "cell_type": "code",
   "execution_count": 10,
   "metadata": {},
   "outputs": [
    {
     "data": {
      "image/svg+xml": [
       "<?xml version=\"1.0\" encoding=\"UTF-8\" standalone=\"no\"?>\r\n",
       "<!DOCTYPE svg PUBLIC \"-//W3C//DTD SVG 1.1//EN\"\r\n",
       " \"http://www.w3.org/Graphics/SVG/1.1/DTD/svg11.dtd\">\r\n",
       "<!-- Generated by graphviz version 2.38.0 (20140413.2041)\r\n",
       " -->\r\n",
       "<!-- Title: G Pages: 1 -->\r\n",
       "<svg width=\"605pt\" height=\"566pt\"\r\n",
       " viewBox=\"0.00 0.00 604.50 566.00\" xmlns=\"http://www.w3.org/2000/svg\" xmlns:xlink=\"http://www.w3.org/1999/xlink\">\r\n",
       "<g id=\"graph0\" class=\"graph\" transform=\"scale(1 1) rotate(0) translate(4 562)\">\r\n",
       "<title>G</title>\r\n",
       "<polygon fill=\"white\" stroke=\"none\" points=\"-4,4 -4,-562 600.5,-562 600.5,4 -4,4\"/>\r\n",
       "<!-- 0 -->\r\n",
       "<g id=\"node1\" class=\"node\"><title>0</title>\r\n",
       "<text text-anchor=\"middle\" x=\"363\" y=\"-536.3\" font-family=\"Times New Roman,serif\" font-size=\"14.00\">0 (None)</text>\r\n",
       "</g>\r\n",
       "<!-- 1 -->\r\n",
       "<g id=\"node2\" class=\"node\"><title>1</title>\r\n",
       "<text text-anchor=\"middle\" x=\"363\" y=\"-449.3\" font-family=\"Times New Roman,serif\" font-size=\"14.00\">1 (Surging)</text>\r\n",
       "</g>\r\n",
       "<!-- 0&#45;&gt;1 -->\r\n",
       "<g id=\"edge1\" class=\"edge\"><title>0&#45;&gt;1</title>\r\n",
       "<path fill=\"none\" stroke=\"black\" d=\"M363,-521.799C363,-510.163 363,-494.548 363,-481.237\"/>\r\n",
       "<polygon fill=\"black\" stroke=\"black\" points=\"366.5,-481.175 363,-471.175 359.5,-481.175 366.5,-481.175\"/>\r\n",
       "<text text-anchor=\"middle\" x=\"375\" y=\"-492.8\" font-family=\"Times New Roman,serif\" font-size=\"14.00\">root</text>\r\n",
       "</g>\r\n",
       "<!-- 10 -->\r\n",
       "<g id=\"node3\" class=\"node\"><title>10</title>\r\n",
       "<text text-anchor=\"middle\" x=\"234\" y=\"-362.3\" font-family=\"Times New Roman,serif\" font-size=\"14.00\">10 (lifted)</text>\r\n",
       "</g>\r\n",
       "<!-- 1&#45;&gt;10 -->\r\n",
       "<g id=\"edge2\" class=\"edge\"><title>1&#45;&gt;10</title>\r\n",
       "<path fill=\"none\" stroke=\"black\" d=\"M336.895,-434.799C317.224,-421.838 290.063,-403.941 268.585,-389.789\"/>\r\n",
       "<polygon fill=\"black\" stroke=\"black\" points=\"270.342,-386.755 260.066,-384.175 266.491,-392.6 270.342,-386.755\"/>\r\n",
       "<text text-anchor=\"middle\" x=\"319.5\" y=\"-405.8\" font-family=\"Times New Roman,serif\" font-size=\"14.00\">conj</text>\r\n",
       "</g>\r\n",
       "<!-- 3 -->\r\n",
       "<g id=\"node4\" class=\"node\"><title>3</title>\r\n",
       "<text text-anchor=\"middle\" x=\"363\" y=\"-362.3\" font-family=\"Times New Roman,serif\" font-size=\"14.00\">3 (demand)</text>\r\n",
       "</g>\r\n",
       "<!-- 1&#45;&gt;3 -->\r\n",
       "<g id=\"edge3\" class=\"edge\"><title>1&#45;&gt;3</title>\r\n",
       "<path fill=\"none\" stroke=\"black\" d=\"M363,-434.799C363,-423.163 363,-407.548 363,-394.237\"/>\r\n",
       "<polygon fill=\"black\" stroke=\"black\" points=\"366.5,-394.175 363,-384.175 359.5,-394.175 366.5,-394.175\"/>\r\n",
       "<text text-anchor=\"middle\" x=\"376\" y=\"-405.8\" font-family=\"Times New Roman,serif\" font-size=\"14.00\">dobj</text>\r\n",
       "</g>\r\n",
       "<!-- 4 -->\r\n",
       "<g id=\"node5\" class=\"node\"><title>4</title>\r\n",
       "<text text-anchor=\"middle\" x=\"449\" y=\"-362.3\" font-family=\"Times New Roman,serif\" font-size=\"14.00\">4 (and)</text>\r\n",
       "</g>\r\n",
       "<!-- 1&#45;&gt;4 -->\r\n",
       "<g id=\"edge4\" class=\"edge\"><title>1&#45;&gt;4</title>\r\n",
       "<path fill=\"none\" stroke=\"black\" d=\"M380.403,-434.799C392.993,-422.356 410.184,-405.364 424.207,-391.504\"/>\r\n",
       "<polygon fill=\"black\" stroke=\"black\" points=\"426.971,-393.694 431.622,-384.175 422.05,-388.716 426.971,-393.694\"/>\r\n",
       "<text text-anchor=\"middle\" x=\"419\" y=\"-405.8\" font-family=\"Times New Roman,serif\" font-size=\"14.00\">cc</text>\r\n",
       "</g>\r\n",
       "<!-- 8 -->\r\n",
       "<g id=\"node10\" class=\"node\"><title>8</title>\r\n",
       "<text text-anchor=\"middle\" x=\"121\" y=\"-275.3\" font-family=\"Times New Roman,serif\" font-size=\"14.00\">8 (economy)</text>\r\n",
       "</g>\r\n",
       "<!-- 10&#45;&gt;8 -->\r\n",
       "<g id=\"edge11\" class=\"edge\"><title>10&#45;&gt;8</title>\r\n",
       "<path fill=\"none\" stroke=\"black\" d=\"M211.133,-347.799C194.132,-335.01 170.742,-317.417 152.051,-303.357\"/>\r\n",
       "<polygon fill=\"black\" stroke=\"black\" points=\"153.929,-300.39 143.833,-297.175 149.721,-305.984 153.929,-300.39\"/>\r\n",
       "<text text-anchor=\"middle\" x=\"200.5\" y=\"-318.8\" font-family=\"Times New Roman,serif\" font-size=\"14.00\">nsubj</text>\r\n",
       "</g>\r\n",
       "<!-- 9 -->\r\n",
       "<g id=\"node11\" class=\"node\"><title>9</title>\r\n",
       "<text text-anchor=\"middle\" x=\"218\" y=\"-275.3\" font-family=\"Times New Roman,serif\" font-size=\"14.00\">9 (have)</text>\r\n",
       "</g>\r\n",
       "<!-- 10&#45;&gt;9 -->\r\n",
       "<g id=\"edge10\" class=\"edge\"><title>10&#45;&gt;9</title>\r\n",
       "<path fill=\"none\" stroke=\"black\" d=\"M230.762,-347.799C228.572,-336.163 225.633,-320.548 223.127,-307.237\"/>\r\n",
       "<polygon fill=\"black\" stroke=\"black\" points=\"226.523,-306.355 221.233,-297.175 219.643,-307.65 226.523,-306.355\"/>\r\n",
       "<text text-anchor=\"middle\" x=\"237\" y=\"-318.8\" font-family=\"Times New Roman,serif\" font-size=\"14.00\">aux</text>\r\n",
       "</g>\r\n",
       "<!-- 11 -->\r\n",
       "<g id=\"node12\" class=\"node\"><title>11</title>\r\n",
       "<text text-anchor=\"middle\" x=\"302\" y=\"-275.3\" font-family=\"Times New Roman,serif\" font-size=\"14.00\">11 (sales)</text>\r\n",
       "</g>\r\n",
       "<!-- 10&#45;&gt;11 -->\r\n",
       "<g id=\"edge9\" class=\"edge\"><title>10&#45;&gt;11</title>\r\n",
       "<path fill=\"none\" stroke=\"black\" d=\"M247.761,-347.799C257.531,-335.587 270.806,-318.992 281.778,-305.278\"/>\r\n",
       "<polygon fill=\"black\" stroke=\"black\" points=\"284.746,-307.171 288.26,-297.175 279.28,-302.798 284.746,-307.171\"/>\r\n",
       "<text text-anchor=\"middle\" x=\"286\" y=\"-318.8\" font-family=\"Times New Roman,serif\" font-size=\"14.00\">dobj</text>\r\n",
       "</g>\r\n",
       "<!-- 2 -->\r\n",
       "<g id=\"node6\" class=\"node\"><title>2</title>\r\n",
       "<text text-anchor=\"middle\" x=\"395\" y=\"-275.3\" font-family=\"Times New Roman,serif\" font-size=\"14.00\">2 (Chinese)</text>\r\n",
       "</g>\r\n",
       "<!-- 3&#45;&gt;2 -->\r\n",
       "<g id=\"edge5\" class=\"edge\"><title>3&#45;&gt;2</title>\r\n",
       "<path fill=\"none\" stroke=\"black\" d=\"M369.476,-347.799C373.9,-336.047 379.851,-320.238 384.895,-306.842\"/>\r\n",
       "<polygon fill=\"black\" stroke=\"black\" points=\"388.286,-307.767 388.534,-297.175 381.735,-305.301 388.286,-307.767\"/>\r\n",
       "<text text-anchor=\"middle\" x=\"397\" y=\"-318.8\" font-family=\"Times New Roman,serif\" font-size=\"14.00\">amod</text>\r\n",
       "</g>\r\n",
       "<!-- 5 -->\r\n",
       "<g id=\"node7\" class=\"node\"><title>5</title>\r\n",
       "<text text-anchor=\"middle\" x=\"27\" y=\"-188.3\" font-family=\"Times New Roman,serif\" font-size=\"14.00\">5 (an)</text>\r\n",
       "</g>\r\n",
       "<!-- 6 -->\r\n",
       "<g id=\"node8\" class=\"node\"><title>6</title>\r\n",
       "<text text-anchor=\"middle\" x=\"118\" y=\"-188.3\" font-family=\"Times New Roman,serif\" font-size=\"14.00\">6 (improving)</text>\r\n",
       "</g>\r\n",
       "<!-- 7 -->\r\n",
       "<g id=\"node9\" class=\"node\"><title>7</title>\r\n",
       "<text text-anchor=\"middle\" x=\"213\" y=\"-188.3\" font-family=\"Times New Roman,serif\" font-size=\"14.00\">7 (U.S.)</text>\r\n",
       "</g>\r\n",
       "<!-- 8&#45;&gt;5 -->\r\n",
       "<g id=\"edge8\" class=\"edge\"><title>8&#45;&gt;5</title>\r\n",
       "<path fill=\"none\" stroke=\"black\" d=\"M101.978,-260.799C88.0899,-248.241 69.0781,-231.049 53.6742,-217.12\"/>\r\n",
       "<polygon fill=\"black\" stroke=\"black\" points=\"55.7587,-214.286 45.994,-210.175 51.0638,-219.479 55.7587,-214.286\"/>\r\n",
       "<text text-anchor=\"middle\" x=\"89\" y=\"-231.8\" font-family=\"Times New Roman,serif\" font-size=\"14.00\">det</text>\r\n",
       "</g>\r\n",
       "<!-- 8&#45;&gt;6 -->\r\n",
       "<g id=\"edge6\" class=\"edge\"><title>8&#45;&gt;6</title>\r\n",
       "<path fill=\"none\" stroke=\"black\" d=\"M120.393,-260.799C119.982,-249.163 119.431,-233.548 118.961,-220.237\"/>\r\n",
       "<polygon fill=\"black\" stroke=\"black\" points=\"122.457,-220.046 118.606,-210.175 115.461,-220.293 122.457,-220.046\"/>\r\n",
       "<text text-anchor=\"middle\" x=\"136\" y=\"-231.8\" font-family=\"Times New Roman,serif\" font-size=\"14.00\">amod</text>\r\n",
       "</g>\r\n",
       "<!-- 8&#45;&gt;7 -->\r\n",
       "<g id=\"edge7\" class=\"edge\"><title>8&#45;&gt;7</title>\r\n",
       "<path fill=\"none\" stroke=\"black\" d=\"M139.618,-260.799C153.21,-248.241 171.817,-231.049 186.893,-217.12\"/>\r\n",
       "<polygon fill=\"black\" stroke=\"black\" points=\"189.44,-219.532 194.41,-210.175 184.69,-214.391 189.44,-219.532\"/>\r\n",
       "<text text-anchor=\"middle\" x=\"203.5\" y=\"-231.8\" font-family=\"Times New Roman,serif\" font-size=\"14.00\">compound</text>\r\n",
       "</g>\r\n",
       "<!-- 20 -->\r\n",
       "<g id=\"node13\" class=\"node\"><title>20</title>\r\n",
       "<text text-anchor=\"middle\" x=\"310\" y=\"-188.3\" font-family=\"Times New Roman,serif\" font-size=\"14.00\">20 (machines)</text>\r\n",
       "</g>\r\n",
       "<!-- 11&#45;&gt;20 -->\r\n",
       "<g id=\"edge12\" class=\"edge\"><title>11&#45;&gt;20</title>\r\n",
       "<path fill=\"none\" stroke=\"black\" d=\"M303.619,-260.799C304.714,-249.163 306.184,-233.548 307.437,-220.237\"/>\r\n",
       "<polygon fill=\"black\" stroke=\"black\" points=\"310.931,-220.459 308.383,-210.175 303.962,-219.803 310.931,-220.459\"/>\r\n",
       "<text text-anchor=\"middle\" x=\"323.5\" y=\"-231.8\" font-family=\"Times New Roman,serif\" font-size=\"14.00\">nmod</text>\r\n",
       "</g>\r\n",
       "<!-- 12 -->\r\n",
       "<g id=\"node14\" class=\"node\"><title>12</title>\r\n",
       "<text text-anchor=\"middle\" x=\"100\" y=\"-101.3\" font-family=\"Times New Roman,serif\" font-size=\"14.00\">12 (of)</text>\r\n",
       "</g>\r\n",
       "<!-- 20&#45;&gt;12 -->\r\n",
       "<g id=\"edge16\" class=\"edge\"><title>20&#45;&gt;12</title>\r\n",
       "<path fill=\"none\" stroke=\"black\" d=\"M262.24,-176.486C234.709,-168.046 204.319,-158.578 198,-156 177.217,-147.522 154.864,-136.291 136.761,-126.622\"/>\r\n",
       "<polygon fill=\"black\" stroke=\"black\" points=\"138.175,-123.407 127.713,-121.73 134.846,-129.565 138.175,-123.407\"/>\r\n",
       "<text text-anchor=\"middle\" x=\"210.5\" y=\"-144.8\" font-family=\"Times New Roman,serif\" font-size=\"14.00\">case</text>\r\n",
       "</g>\r\n",
       "<!-- 13 -->\r\n",
       "<g id=\"node15\" class=\"node\"><title>13</title>\r\n",
       "<text text-anchor=\"middle\" x=\"196\" y=\"-101.3\" font-family=\"Times New Roman,serif\" font-size=\"14.00\">13 (Caterpillar)</text>\r\n",
       "</g>\r\n",
       "<!-- 20&#45;&gt;13 -->\r\n",
       "<g id=\"edge20\" class=\"edge\"><title>20&#45;&gt;13</title>\r\n",
       "<path fill=\"none\" stroke=\"black\" d=\"M271.802,-173.853C262.016,-168.719 251.783,-162.661 243,-156 233.407,-148.724 224.063,-139.401 216.267,-130.78\"/>\r\n",
       "<polygon fill=\"black\" stroke=\"black\" points=\"218.799,-128.36 209.579,-123.14 213.532,-132.97 218.799,-128.36\"/>\r\n",
       "<text text-anchor=\"middle\" x=\"274.5\" y=\"-144.8\" font-family=\"Times New Roman,serif\" font-size=\"14.00\">nmod:poss</text>\r\n",
       "</g>\r\n",
       "<!-- 15 -->\r\n",
       "<g id=\"node17\" class=\"node\"><title>15</title>\r\n",
       "<text text-anchor=\"middle\" x=\"310\" y=\"-101.3\" font-family=\"Times New Roman,serif\" font-size=\"14.00\">15 (signature)</text>\r\n",
       "</g>\r\n",
       "<!-- 20&#45;&gt;15 -->\r\n",
       "<g id=\"edge17\" class=\"edge\"><title>20&#45;&gt;15</title>\r\n",
       "<path fill=\"none\" stroke=\"black\" d=\"M310,-173.799C310,-162.163 310,-146.548 310,-133.237\"/>\r\n",
       "<polygon fill=\"black\" stroke=\"black\" points=\"313.5,-133.175 310,-123.175 306.5,-133.175 313.5,-133.175\"/>\r\n",
       "<text text-anchor=\"middle\" x=\"326\" y=\"-144.8\" font-family=\"Times New Roman,serif\" font-size=\"14.00\">amod</text>\r\n",
       "</g>\r\n",
       "<!-- 16 -->\r\n",
       "<g id=\"node18\" class=\"node\"><title>16</title>\r\n",
       "<text text-anchor=\"middle\" x=\"414\" y=\"-101.3\" font-family=\"Times New Roman,serif\" font-size=\"14.00\">16 (yellow)</text>\r\n",
       "</g>\r\n",
       "<!-- 20&#45;&gt;16 -->\r\n",
       "<g id=\"edge18\" class=\"edge\"><title>20&#45;&gt;16</title>\r\n",
       "<path fill=\"none\" stroke=\"black\" d=\"M331.046,-173.799C346.552,-161.126 367.832,-143.734 384.956,-129.738\"/>\r\n",
       "<polygon fill=\"black\" stroke=\"black\" points=\"387.457,-132.214 392.985,-123.175 383.028,-126.794 387.457,-132.214\"/>\r\n",
       "<text text-anchor=\"middle\" x=\"385\" y=\"-144.8\" font-family=\"Times New Roman,serif\" font-size=\"14.00\">amod</text>\r\n",
       "</g>\r\n",
       "<!-- 17 -->\r\n",
       "<g id=\"node19\" class=\"node\"><title>17</title>\r\n",
       "<text text-anchor=\"middle\" x=\"512\" y=\"-101.3\" font-family=\"Times New Roman,serif\" font-size=\"14.00\">17 (mining)</text>\r\n",
       "</g>\r\n",
       "<!-- 20&#45;&gt;17 -->\r\n",
       "<g id=\"edge19\" class=\"edge\"><title>20&#45;&gt;17</title>\r\n",
       "<path fill=\"none\" stroke=\"black\" d=\"M357.661,-174.331C372.891,-168.767 389.75,-162.359 405,-156 425.98,-147.252 448.855,-136.704 468.049,-127.555\"/>\r\n",
       "<polygon fill=\"black\" stroke=\"black\" points=\"469.648,-130.67 477.152,-123.191 466.622,-124.358 469.648,-130.67\"/>\r\n",
       "<text text-anchor=\"middle\" x=\"468.5\" y=\"-144.8\" font-family=\"Times New Roman,serif\" font-size=\"14.00\">compound</text>\r\n",
       "</g>\r\n",
       "<!-- 14 -->\r\n",
       "<g id=\"node16\" class=\"node\"><title>14</title>\r\n",
       "<text text-anchor=\"middle\" x=\"196\" y=\"-14.3\" font-family=\"Times New Roman,serif\" font-size=\"14.00\">14 (&#39;s)</text>\r\n",
       "</g>\r\n",
       "<!-- 13&#45;&gt;14 -->\r\n",
       "<g id=\"edge13\" class=\"edge\"><title>13&#45;&gt;14</title>\r\n",
       "<path fill=\"none\" stroke=\"black\" d=\"M196,-86.799C196,-75.1626 196,-59.5479 196,-46.2368\"/>\r\n",
       "<polygon fill=\"black\" stroke=\"black\" points=\"199.5,-46.1754 196,-36.1754 192.5,-46.1755 199.5,-46.1754\"/>\r\n",
       "<text text-anchor=\"middle\" x=\"208.5\" y=\"-57.8\" font-family=\"Times New Roman,serif\" font-size=\"14.00\">case</text>\r\n",
       "</g>\r\n",
       "<!-- 19 -->\r\n",
       "<g id=\"node20\" class=\"node\"><title>19</title>\r\n",
       "<text text-anchor=\"middle\" x=\"459\" y=\"-14.3\" font-family=\"Times New Roman,serif\" font-size=\"14.00\">19 (construction)</text>\r\n",
       "</g>\r\n",
       "<!-- 17&#45;&gt;19 -->\r\n",
       "<g id=\"edge14\" class=\"edge\"><title>17&#45;&gt;19</title>\r\n",
       "<path fill=\"none\" stroke=\"black\" d=\"M501.275,-86.799C493.732,-74.7017 483.508,-58.3049 475.004,-44.6665\"/>\r\n",
       "<polygon fill=\"black\" stroke=\"black\" points=\"477.97,-42.8092 469.709,-36.1754 472.03,-46.5129 477.97,-42.8092\"/>\r\n",
       "<text text-anchor=\"middle\" x=\"501.5\" y=\"-57.8\" font-family=\"Times New Roman,serif\" font-size=\"14.00\">conj</text>\r\n",
       "</g>\r\n",
       "<!-- 18 -->\r\n",
       "<g id=\"node21\" class=\"node\"><title>18</title>\r\n",
       "<text text-anchor=\"middle\" x=\"565\" y=\"-14.3\" font-family=\"Times New Roman,serif\" font-size=\"14.00\">18 (and)</text>\r\n",
       "</g>\r\n",
       "<!-- 17&#45;&gt;18 -->\r\n",
       "<g id=\"edge15\" class=\"edge\"><title>17&#45;&gt;18</title>\r\n",
       "<path fill=\"none\" stroke=\"black\" d=\"M522.725,-86.799C530.268,-74.7017 540.492,-58.3049 548.996,-44.6665\"/>\r\n",
       "<polygon fill=\"black\" stroke=\"black\" points=\"551.97,-46.5129 554.291,-36.1754 546.03,-42.8092 551.97,-46.5129\"/>\r\n",
       "<text text-anchor=\"middle\" x=\"548\" y=\"-57.8\" font-family=\"Times New Roman,serif\" font-size=\"14.00\">cc</text>\r\n",
       "</g>\r\n",
       "</g>\r\n",
       "</svg>\r\n"
      ],
      "text/plain": [
       "<graphviz.files.Source at 0x10c90fd0>"
      ]
     },
     "execution_count": 10,
     "metadata": {},
     "output_type": "execute_result"
    }
   ],
   "source": [
    "result = list(sdp.raw_parse(text))\n",
    "dep_tree_dot_repr = [parse for parse in result][0].to_dot()\n",
    "Source(dep_tree_dot_repr)"
   ]
  },
  {
   "cell_type": "code",
   "execution_count": null,
   "metadata": {
    "collapsed": true
   },
   "outputs": [],
   "source": []
  },
  {
   "cell_type": "code",
   "execution_count": null,
   "metadata": {
    "collapsed": true
   },
   "outputs": [],
   "source": []
  }
 ],
 "metadata": {
  "anaconda-cloud": {},
  "kernelspec": {
   "display_name": "Python 3",
   "language": "python",
   "name": "python3"
  },
  "language_info": {
   "codemirror_mode": {
    "name": "ipython",
    "version": 3
   },
   "file_extension": ".py",
   "mimetype": "text/x-python",
   "name": "python",
   "nbconvert_exporter": "python",
   "pygments_lexer": "ipython3",
   "version": "3.6.4"
  }
 },
 "nbformat": 4,
 "nbformat_minor": 1
}
