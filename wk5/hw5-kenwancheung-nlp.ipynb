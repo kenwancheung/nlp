{
 "cells": [
  {
   "cell_type": "markdown",
   "metadata": {},
   "source": [
    "# HW 5 - NLP - Kenwan Cheung\n",
    "\n",
    "You have been provided with a pickle file, containing the 100 news articles about Caterpillar.  \n",
    "\n",
    "Discard non-English results.\n",
    "\n",
    "Identify what companies are mentioned most frequently along with Caterpillar (in both title and the body of the article)\n",
    "\n",
    "Show a table or chart with your top-20 companies (sorted in the descending order)"
   ]
  },
  {
   "cell_type": "code",
   "execution_count": 17,
   "metadata": {},
   "outputs": [
    {
     "data": {
      "text/html": [
       "<style>.container { width:100% !important; }</style>"
      ],
      "text/plain": [
       "<IPython.core.display.HTML object>"
      ]
     },
     "metadata": {},
     "output_type": "display_data"
    }
   ],
   "source": [
    "from IPython.core.display import display, HTML\n",
    "display(HTML(\"<style>.container { width:100% !important; }</style>\"))"
   ]
  },
  {
   "cell_type": "code",
   "execution_count": 42,
   "metadata": {},
   "outputs": [],
   "source": [
    "import nltk as nltk\n",
    "# nltk.internals.config_java(\"C:/Program Files (x86)/Java/jdk1.8.0_162/bin/java.exe\")\n",
    "import nltk.corpus  \n",
    "from nltk.text import Text\n",
    "import pandas as pd\n",
    "import re\n",
    "import sys\n",
    "import numpy as np"
   ]
  },
  {
   "cell_type": "code",
   "execution_count": 2,
   "metadata": {},
   "outputs": [
    {
     "name": "stdout",
     "output_type": "stream",
     "text": [
      "[nltk_data] Downloading package words to\n",
      "[nltk_data]     C:\\Users\\Boog\\AppData\\Roaming\\nltk_data...\n",
      "[nltk_data]   Package words is already up-to-date!\n"
     ]
    },
    {
     "data": {
      "text/plain": [
       "True"
      ]
     },
     "execution_count": 2,
     "metadata": {},
     "output_type": "execute_result"
    }
   ],
   "source": [
    "# nltk.download('punkt')\n",
    "# nltk.download('averaged_perceptron_tagger')\n",
    "# nltk.download('maxent_ne_chunker')\n",
    "nltk.download('words')\n"
   ]
  },
  {
   "cell_type": "code",
   "execution_count": 3,
   "metadata": {},
   "outputs": [
    {
     "name": "stderr",
     "output_type": "stream",
     "text": [
      "c:\\users\\boog\\dev\\cfehome\\lib\\site-packages\\nltk\\tag\\stanford.py:183: DeprecationWarning: \n",
      "The StanfordTokenizer will be deprecated in version 3.2.5.\n",
      "Please use \u001b[91mnltk.tag.corenlp.CoreNLPPOSTagger\u001b[0m or \u001b[91mnltk.tag.corenlp.CoreNLPNERTagger\u001b[0m instead.\n",
      "  super(StanfordNERTagger, self).__init__(*args, **kwargs)\n"
     ]
    }
   ],
   "source": [
    "import os\n",
    "from graphviz import Source\n",
    "java_path = \"C:/Program Files (x86)/Java/jdk1.8.0_162/bin/java.exe\"\n",
    "# java_path = \"C:\\ProgramData\\Oracle\\Java\\javapath\\java.exe\"\n",
    "os.environ['JAVAHOME'] = java_path\n",
    "\n",
    "# Change the path according to your system\n",
    "stanford_classifier = 'D:\\datascience\\StanfordParser\\stanford-ner-2017-06-09\\classifiers\\english.all.3class.distsim.crf.ser.gz'\n",
    "stanford_ner_path = 'D:\\datascience\\StanfordParser\\stanford-ner-2017-06-09\\stanford-ner.jar'\n",
    "\n",
    "stanford_parser_path = 'D:\\datascience\\StanfordParser\\stanford-parser-full-2017-06-09\\stanford-parser.jar'\n",
    "stanford_parser_models_path = 'D:\\datascience\\StanfordParser\\stanford-parser-full-2017-06-09\\stanford-parser-3.8.0-models.jar'\n",
    "\n",
    "from nltk.parse.stanford import StanfordDependencyParser\n",
    "from nltk.tag.stanford import StanfordNERTagger\n",
    "\n",
    "# Creating Tagger Object\n",
    "st = StanfordNERTagger(stanford_classifier, stanford_ner_path, encoding='utf-8')\n",
    "sdp = StanfordDependencyParser(path_to_jar=stanford_parser_path, path_to_models_jar=stanford_parser_models_path)"
   ]
  },
  {
   "cell_type": "code",
   "execution_count": 4,
   "metadata": {},
   "outputs": [],
   "source": [
    "# import\n",
    "\n",
    "cat = pd.read_pickle('../wk5/news_cat.pkl')"
   ]
  },
  {
   "cell_type": "code",
   "execution_count": 5,
   "metadata": {
    "scrolled": true
   },
   "outputs": [
    {
     "data": {
      "text/html": [
       "<div>\n",
       "<style scoped>\n",
       "    .dataframe tbody tr th:only-of-type {\n",
       "        vertical-align: middle;\n",
       "    }\n",
       "\n",
       "    .dataframe tbody tr th {\n",
       "        vertical-align: top;\n",
       "    }\n",
       "\n",
       "    .dataframe thead th {\n",
       "        text-align: right;\n",
       "    }\n",
       "</style>\n",
       "<table border=\"1\" class=\"dataframe\">\n",
       "  <thead>\n",
       "    <tr style=\"text-align: right;\">\n",
       "      <th></th>\n",
       "      <th>crawled</th>\n",
       "      <th>language</th>\n",
       "      <th>text</th>\n",
       "      <th>title</th>\n",
       "    </tr>\n",
       "  </thead>\n",
       "  <tbody>\n",
       "    <tr>\n",
       "      <th>0</th>\n",
       "      <td>2018-01-30T23:03:51.004+02:00</td>\n",
       "      <td>english</td>\n",
       "      <td>by Abhishek K Global Telehandler Market 2023 D...</td>\n",
       "      <td>Global Telehandler Market 2023 Demand by Segme...</td>\n",
       "    </tr>\n",
       "    <tr>\n",
       "      <th>1</th>\n",
       "      <td>2018-01-30T23:06:46.024+02:00</td>\n",
       "      <td>english</td>\n",
       "      <td>favorite this post 2014 Caterpillar 314E LCR h...</td>\n",
       "      <td>2014 Caterpillar 314E LCR</td>\n",
       "    </tr>\n",
       "    <tr>\n",
       "      <th>2</th>\n",
       "      <td>2018-01-30T23:18:35.023+02:00</td>\n",
       "      <td>english</td>\n",
       "      <td>By: MAX NISEN The Amazon health care threat ha...</td>\n",
       "      <td>Amazon, Berkshire, JPMorgan health announcemen...</td>\n",
       "    </tr>\n",
       "    <tr>\n",
       "      <th>3</th>\n",
       "      <td>2018-01-30T23:20:54.012+02:00</td>\n",
       "      <td>english</td>\n",
       "      <td>QR Code Link to This Post MONTHLY PUBLIC AUCTI...</td>\n",
       "      <td>2005 Caterpillar CB534D Tandem Vibratory Rolle...</td>\n",
       "    </tr>\n",
       "    <tr>\n",
       "      <th>4</th>\n",
       "      <td>2018-01-30T23:28:30.000+02:00</td>\n",
       "      <td>english</td>\n",
       "      <td>QR Code Link to This Post 2007 CATERPILLAR D4G...</td>\n",
       "      <td>2007 CATERPILLAR D4G LGP CAB SCREEN/SWEEPS - O...</td>\n",
       "    </tr>\n",
       "  </tbody>\n",
       "</table>\n",
       "</div>"
      ],
      "text/plain": [
       "                         crawled language  \\\n",
       "0  2018-01-30T23:03:51.004+02:00  english   \n",
       "1  2018-01-30T23:06:46.024+02:00  english   \n",
       "2  2018-01-30T23:18:35.023+02:00  english   \n",
       "3  2018-01-30T23:20:54.012+02:00  english   \n",
       "4  2018-01-30T23:28:30.000+02:00  english   \n",
       "\n",
       "                                                text  \\\n",
       "0  by Abhishek K Global Telehandler Market 2023 D...   \n",
       "1  favorite this post 2014 Caterpillar 314E LCR h...   \n",
       "2  By: MAX NISEN The Amazon health care threat ha...   \n",
       "3  QR Code Link to This Post MONTHLY PUBLIC AUCTI...   \n",
       "4  QR Code Link to This Post 2007 CATERPILLAR D4G...   \n",
       "\n",
       "                                               title  \n",
       "0  Global Telehandler Market 2023 Demand by Segme...  \n",
       "1                          2014 Caterpillar 314E LCR  \n",
       "2  Amazon, Berkshire, JPMorgan health announcemen...  \n",
       "3  2005 Caterpillar CB534D Tandem Vibratory Rolle...  \n",
       "4  2007 CATERPILLAR D4G LGP CAB SCREEN/SWEEPS - O...  "
      ]
     },
     "execution_count": 5,
     "metadata": {},
     "output_type": "execute_result"
    }
   ],
   "source": [
    "cat.head()"
   ]
  },
  {
   "cell_type": "code",
   "execution_count": 6,
   "metadata": {},
   "outputs": [
    {
     "data": {
      "text/html": [
       "<div>\n",
       "<style scoped>\n",
       "    .dataframe tbody tr th:only-of-type {\n",
       "        vertical-align: middle;\n",
       "    }\n",
       "\n",
       "    .dataframe tbody tr th {\n",
       "        vertical-align: top;\n",
       "    }\n",
       "\n",
       "    .dataframe thead th {\n",
       "        text-align: right;\n",
       "    }\n",
       "</style>\n",
       "<table border=\"1\" class=\"dataframe\">\n",
       "  <thead>\n",
       "    <tr style=\"text-align: right;\">\n",
       "      <th></th>\n",
       "      <th>crawled</th>\n",
       "      <th>language</th>\n",
       "      <th>text</th>\n",
       "      <th>title</th>\n",
       "    </tr>\n",
       "  </thead>\n",
       "  <tbody>\n",
       "    <tr>\n",
       "      <th>0</th>\n",
       "      <td>2018-01-30T23:03:51.004+02:00</td>\n",
       "      <td>english</td>\n",
       "      <td>by Abhishek K Global Telehandler Market 2023 D...</td>\n",
       "      <td>Global Telehandler Market 2023 Demand by Segme...</td>\n",
       "    </tr>\n",
       "    <tr>\n",
       "      <th>1</th>\n",
       "      <td>2018-01-30T23:06:46.024+02:00</td>\n",
       "      <td>english</td>\n",
       "      <td>favorite this post 2014 Caterpillar 314E LCR h...</td>\n",
       "      <td>2014 Caterpillar 314E LCR</td>\n",
       "    </tr>\n",
       "    <tr>\n",
       "      <th>2</th>\n",
       "      <td>2018-01-30T23:18:35.023+02:00</td>\n",
       "      <td>english</td>\n",
       "      <td>By: MAX NISEN The Amazon health care threat ha...</td>\n",
       "      <td>Amazon, Berkshire, JPMorgan health announcemen...</td>\n",
       "    </tr>\n",
       "    <tr>\n",
       "      <th>3</th>\n",
       "      <td>2018-01-30T23:20:54.012+02:00</td>\n",
       "      <td>english</td>\n",
       "      <td>QR Code Link to This Post MONTHLY PUBLIC AUCTI...</td>\n",
       "      <td>2005 Caterpillar CB534D Tandem Vibratory Rolle...</td>\n",
       "    </tr>\n",
       "    <tr>\n",
       "      <th>4</th>\n",
       "      <td>2018-01-30T23:28:30.000+02:00</td>\n",
       "      <td>english</td>\n",
       "      <td>QR Code Link to This Post 2007 CATERPILLAR D4G...</td>\n",
       "      <td>2007 CATERPILLAR D4G LGP CAB SCREEN/SWEEPS - O...</td>\n",
       "    </tr>\n",
       "  </tbody>\n",
       "</table>\n",
       "</div>"
      ],
      "text/plain": [
       "                         crawled language  \\\n",
       "0  2018-01-30T23:03:51.004+02:00  english   \n",
       "1  2018-01-30T23:06:46.024+02:00  english   \n",
       "2  2018-01-30T23:18:35.023+02:00  english   \n",
       "3  2018-01-30T23:20:54.012+02:00  english   \n",
       "4  2018-01-30T23:28:30.000+02:00  english   \n",
       "\n",
       "                                                text  \\\n",
       "0  by Abhishek K Global Telehandler Market 2023 D...   \n",
       "1  favorite this post 2014 Caterpillar 314E LCR h...   \n",
       "2  By: MAX NISEN The Amazon health care threat ha...   \n",
       "3  QR Code Link to This Post MONTHLY PUBLIC AUCTI...   \n",
       "4  QR Code Link to This Post 2007 CATERPILLAR D4G...   \n",
       "\n",
       "                                               title  \n",
       "0  Global Telehandler Market 2023 Demand by Segme...  \n",
       "1                          2014 Caterpillar 314E LCR  \n",
       "2  Amazon, Berkshire, JPMorgan health announcemen...  \n",
       "3  2005 Caterpillar CB534D Tandem Vibratory Rolle...  \n",
       "4  2007 CATERPILLAR D4G LGP CAB SCREEN/SWEEPS - O...  "
      ]
     },
     "execution_count": 6,
     "metadata": {},
     "output_type": "execute_result"
    }
   ],
   "source": [
    "cat_english = cat[(cat.language == 'english')]\n",
    "cat_english.head()"
   ]
  },
  {
   "cell_type": "code",
   "execution_count": 7,
   "metadata": {},
   "outputs": [],
   "source": [
    "cat_text = cat_english.text.astype(str)\n",
    "cat_title = cat_english.title.astype(str)"
   ]
  },
  {
   "cell_type": "code",
   "execution_count": 8,
   "metadata": {},
   "outputs": [],
   "source": [
    "cat_total = cat_text.append(cat_title)"
   ]
  },
  {
   "cell_type": "code",
   "execution_count": 16,
   "metadata": {
    "scrolled": true
   },
   "outputs": [
    {
     "name": "stdout",
     "output_type": "stream",
     "text": [
      "0     by Abhishek K Global Telehandler Market 2023 D...\n",
      "1     favorite this post 2014 Caterpillar 314E LCR h...\n",
      "2     By: MAX NISEN The Amazon health care threat ha...\n",
      "3     QR Code Link to This Post MONTHLY PUBLIC AUCTI...\n",
      "4     QR Code Link to This Post 2007 CATERPILLAR D4G...\n",
      "5     Elite Wealth Management Inc. Acquires Shares o...\n",
      "6     Entertainment: Cast announced for 'Alice's Adv...\n",
      "7     Daniel Leist/Getty Images General view of atmo...\n",
      "8     The Dow Market Happenings For Tuesday, January...\n",
      "9     DJIA Market Happenings For Monday, January 29,...\n",
      "10    Fresh Engine Oil and Filter This machine is re...\n",
      "11    Top Stock Picks for the Week of Jan 29, 2018 (...\n",
      "12    QR Code Link to This Post Ag Parts Supply in H...\n",
      "13    model name / number: D8 QR Code Link to This P...\n",
      "14    Caterpillar Marine announces open order board ...\n",
      "15    Republic NOLA New Orleans, LA - 11:00 PM Ages:...\n",
      "16    0 SHARE \\nDoes the name Land Rover ring any be...\n",
      "17    Horizon’s Nine Stars for Sale By Kelley Sanfor...\n",
      "18    Tweet \\nSecurity National Trust Co. grew its h...\n",
      "19    One year later, Peoria progresses after Caterp...\n",
      "20    QR Code Link to This Post 2004 938G Series 2 C...\n",
      "21    Jan 30, 2018 at 8:30 AM By John Irwin \\nMonday...\n",
      "22    DUBLIN- The \"Diesel Power Engine Market by Ope...\n",
      "23    Jan. 31 -- PEORIA -- Peoria natives and transp...\n",
      "24    DIGGER MAN BLOG Earthworks for Dozers \\nGPS an...\n",
      "25    favorite this post Caterpillar c9 engine - $85...\n",
      "26    Successful Cases[sornyang]Xuzhou Bonovo Machin...\n",
      "27    State: Kentucky \\nCompany Description \\nProgre...\n",
      "28    State: Alabama \\nCompany Description \\nProgres...\n",
      "29    State: Alabama \\nCompany Description \\nProgres...\n",
      "                            ...                        \n",
      "70    Caterpillar Inc. (CAT) Position Cut by British...\n",
      "71    Analysts’ Recent Ratings Updates for Caterpill...\n",
      "72    Cat Engines For Adelphia Gateway Project Compr...\n",
      "73           Caterpillar (CAT) Upgraded to Hold by Vetr\n",
      "74    Boeing beats, says it'll deliver more planes i...\n",
      "75    Caterpillar : Free Research Report as Caterpil...\n",
      "76    IFG Advisory LLC Takes $623,000 Position in Ca...\n",
      "77    FineMark National Bank & Trust Has $1.36 Milli...\n",
      "78    Oakmont Partners LLC Invests $387,000 in Cater...\n",
      "79                   World Book Fair, 6-14 January 2018\n",
      "80       Keep Asking: Is this a need or is this a want?\n",
      "81    Samsung essentially informs the US government ...\n",
      "82    Regentatlantic Capital LLC Sells 913 Shares of...\n",
      "83    Louisiana State Employees Retirement System Ha...\n",
      "84    Convergence Investment Partners LLC Purchases ...\n",
      "85    440 Investment Group LLC Invests $303,000 in C...\n",
      "86    World: 3 Giants Form Health Alliance, Rocking ...\n",
      "87                            \"Déjà vu All Over Again?\"\n",
      "88    Stock Futures Slide: Market Shudders As Amazon...\n",
      "89    Atossa Genetics Inc : \"Déjà vu All Over Again?...\n",
      "90      3 Giants Form Health Alliance, Rocking Insurers\n",
      "91    Caterpillar Inc. (NYSE:CAT) Shares Sold by Par...\n",
      "92         What to Expect From Caterpillar Inc. in 2018\n",
      "93                            \"Déjà vu All Over Again?\"\n",
      "94     Electric Forklift & Charger (West Chester) $5500\n",
      "95         What to Expect From Caterpillar Inc. in 2018\n",
      "96    Like to trade my Mitsubishi Excavator for a Mo...\n",
      "97    One year after Caterpillar's headquarters anno...\n",
      "98    1,613 Shares in Caterpillar Inc. (NYSE:CAT) Pu...\n",
      "99    Caterpillar Inc. (CAT) Holdings Cut by Weather...\n",
      "Length: 200, dtype: object\n"
     ]
    }
   ],
   "source": [
    "print(cat_total)"
   ]
  },
  {
   "cell_type": "markdown",
   "metadata": {},
   "source": [
    "### Now we've loaded just english results.\n",
    "\n",
    "We need to identify which words are organizations only."
   ]
  },
  {
   "cell_type": "code",
   "execution_count": 10,
   "metadata": {
    "scrolled": true
   },
   "outputs": [],
   "source": [
    "entities = []\n",
    "labels = []\n",
    "for chunk in nltk.ne_chunk(nltk.pos_tag(nltk.word_tokenize(str(cat_total))), binary = False):\n",
    "    if hasattr(chunk, 'label'):\n",
    "        entities.append(' '.join(c[0] for c in chunk)) #Add space as between multi-token entities\n",
    "        labels.append(chunk.label())\n",
    "\n",
    "#entities_labels = list(zip(entities, labels))\n",
    "entities_labels = list(set(zip(entities, labels))) #unique entities"
   ]
  },
  {
   "cell_type": "code",
   "execution_count": 12,
   "metadata": {},
   "outputs": [
    {
     "data": {
      "text/html": [
       "<div>\n",
       "<style scoped>\n",
       "    .dataframe tbody tr th:only-of-type {\n",
       "        vertical-align: middle;\n",
       "    }\n",
       "\n",
       "    .dataframe tbody tr th {\n",
       "        vertical-align: top;\n",
       "    }\n",
       "\n",
       "    .dataframe thead th {\n",
       "        text-align: right;\n",
       "    }\n",
       "</style>\n",
       "<table border=\"1\" class=\"dataframe\">\n",
       "  <thead>\n",
       "    <tr style=\"text-align: right;\">\n",
       "      <th></th>\n",
       "      <th>Entities</th>\n",
       "      <th>Labels</th>\n",
       "    </tr>\n",
       "  </thead>\n",
       "  <tbody>\n",
       "    <tr>\n",
       "      <th>0</th>\n",
       "      <td>Parts Supply</td>\n",
       "      <td>PERSON</td>\n",
       "    </tr>\n",
       "    <tr>\n",
       "      <th>1</th>\n",
       "      <td>SHARE</td>\n",
       "      <td>ORGANIZATION</td>\n",
       "    </tr>\n",
       "    <tr>\n",
       "      <th>2</th>\n",
       "      <td>Abhishek K Global Telehandler</td>\n",
       "      <td>PERSON</td>\n",
       "    </tr>\n",
       "    <tr>\n",
       "      <th>3</th>\n",
       "      <td>Republic</td>\n",
       "      <td>ORGANIZATION</td>\n",
       "    </tr>\n",
       "    <tr>\n",
       "      <th>4</th>\n",
       "      <td>Picks</td>\n",
       "      <td>PERSON</td>\n",
       "    </tr>\n",
       "  </tbody>\n",
       "</table>\n",
       "</div>"
      ],
      "text/plain": [
       "                        Entities        Labels\n",
       "0                   Parts Supply        PERSON\n",
       "1                          SHARE  ORGANIZATION\n",
       "2  Abhishek K Global Telehandler        PERSON\n",
       "3                       Republic  ORGANIZATION\n",
       "4                          Picks        PERSON"
      ]
     },
     "execution_count": 12,
     "metadata": {},
     "output_type": "execute_result"
    }
   ],
   "source": [
    "entities_df = pd.DataFrame(entities_labels)\n",
    "entities_df.columns = [\"Entities\", \"Labels\"]\n",
    "entities_df.head()"
   ]
  },
  {
   "cell_type": "markdown",
   "metadata": {},
   "source": [
    "### Let's parse out which rows have \"caterpillar in their name. We will repeat the exercise again."
   ]
  },
  {
   "cell_type": "code",
   "execution_count": 19,
   "metadata": {
    "scrolled": true
   },
   "outputs": [],
   "source": [
    "cat_rows = cat_total[cat_total.str.contains(\"Caterpillar\")]"
   ]
  },
  {
   "cell_type": "code",
   "execution_count": 69,
   "metadata": {},
   "outputs": [],
   "source": [
    "entities = []\n",
    "labels = []\n",
    "for chunk in nltk.ne_chunk(nltk.pos_tag(nltk.word_tokenize(str(cat_rows))), binary = False):\n",
    "    if hasattr(chunk, 'label'):\n",
    "#         print(chunk)\n",
    "        entities.append(' '.join(c[0] for c in chunk)) #Add space as between multi-token entities\n",
    "        labels.append(chunk.label())\n",
    "\n",
    "# entities_labels = list(zip(entities, labels))\n",
    "entities_labels = list(set(zip(entities, labels))) #unique entities"
   ]
  },
  {
   "cell_type": "code",
   "execution_count": 70,
   "metadata": {},
   "outputs": [],
   "source": [
    "entities_df = pd.DataFrame(entities_labels)\n",
    "entities_df.columns = [\"Entities\", \"Labels\"]\n",
    "# entities_df = entities_df.sort_values(by=\"Entities\")"
   ]
  },
  {
   "cell_type": "code",
   "execution_count": 71,
   "metadata": {},
   "outputs": [
    {
     "data": {
      "text/html": [
       "<div>\n",
       "<style scoped>\n",
       "    .dataframe tbody tr th:only-of-type {\n",
       "        vertical-align: middle;\n",
       "    }\n",
       "\n",
       "    .dataframe tbody tr th {\n",
       "        vertical-align: top;\n",
       "    }\n",
       "\n",
       "    .dataframe thead th {\n",
       "        text-align: right;\n",
       "    }\n",
       "</style>\n",
       "<table border=\"1\" class=\"dataframe\">\n",
       "  <thead>\n",
       "    <tr style=\"text-align: right;\">\n",
       "      <th></th>\n",
       "      <th>Entities</th>\n",
       "      <th>Labels</th>\n",
       "    </tr>\n",
       "  </thead>\n",
       "  <tbody>\n",
       "    <tr>\n",
       "      <th>0</th>\n",
       "      <td>Louisiana State Employees Retirement System Ha</td>\n",
       "      <td>PERSON</td>\n",
       "    </tr>\n",
       "    <tr>\n",
       "      <th>1</th>\n",
       "      <td>H</td>\n",
       "      <td>GPE</td>\n",
       "    </tr>\n",
       "    <tr>\n",
       "      <th>2</th>\n",
       "      <td>Alabama</td>\n",
       "      <td>PERSON</td>\n",
       "    </tr>\n",
       "    <tr>\n",
       "      <th>3</th>\n",
       "      <td>Holdings Cut</td>\n",
       "      <td>ORGANIZATION</td>\n",
       "    </tr>\n",
       "    <tr>\n",
       "      <th>4</th>\n",
       "      <td>Investment Group</td>\n",
       "      <td>ORGANIZATION</td>\n",
       "    </tr>\n",
       "    <tr>\n",
       "      <th>5</th>\n",
       "      <td>DIGGER</td>\n",
       "      <td>ORGANIZATION</td>\n",
       "    </tr>\n",
       "    <tr>\n",
       "      <th>6</th>\n",
       "      <td>Marine</td>\n",
       "      <td>PERSON</td>\n",
       "    </tr>\n",
       "    <tr>\n",
       "      <th>7</th>\n",
       "      <td>LLC</td>\n",
       "      <td>ORGANIZATION</td>\n",
       "    </tr>\n",
       "    <tr>\n",
       "      <th>8</th>\n",
       "      <td>Peoria</td>\n",
       "      <td>GSP</td>\n",
       "    </tr>\n",
       "    <tr>\n",
       "      <th>9</th>\n",
       "      <td>British</td>\n",
       "      <td>GPE</td>\n",
       "    </tr>\n",
       "    <tr>\n",
       "      <th>10</th>\n",
       "      <td>Oakmont Partners</td>\n",
       "      <td>ORGANIZATION</td>\n",
       "    </tr>\n",
       "    <tr>\n",
       "      <th>11</th>\n",
       "      <td>Winnin</td>\n",
       "      <td>GPE</td>\n",
       "    </tr>\n",
       "    <tr>\n",
       "      <th>12</th>\n",
       "      <td>Picks</td>\n",
       "      <td>PERSON</td>\n",
       "    </tr>\n",
       "    <tr>\n",
       "      <th>13</th>\n",
       "      <td>Ca</td>\n",
       "      <td>GPE</td>\n",
       "    </tr>\n",
       "    <tr>\n",
       "      <th>14</th>\n",
       "      <td>Diesel Power Engine Market</td>\n",
       "      <td>PERSON</td>\n",
       "    </tr>\n",
       "    <tr>\n",
       "      <th>15</th>\n",
       "      <td>Capital</td>\n",
       "      <td>ORGANIZATION</td>\n",
       "    </tr>\n",
       "    <tr>\n",
       "      <th>16</th>\n",
       "      <td>Peoria</td>\n",
       "      <td>GPE</td>\n",
       "    </tr>\n",
       "    <tr>\n",
       "      <th>17</th>\n",
       "      <td>John Irwin</td>\n",
       "      <td>PERSON</td>\n",
       "    </tr>\n",
       "    <tr>\n",
       "      <th>18</th>\n",
       "      <td>Weather</td>\n",
       "      <td>PERSON</td>\n",
       "    </tr>\n",
       "    <tr>\n",
       "      <th>19</th>\n",
       "      <td>Shares</td>\n",
       "      <td>PERSON</td>\n",
       "    </tr>\n",
       "  </tbody>\n",
       "</table>\n",
       "</div>"
      ],
      "text/plain": [
       "                                          Entities        Labels\n",
       "0   Louisiana State Employees Retirement System Ha        PERSON\n",
       "1                                                H           GPE\n",
       "2                                          Alabama        PERSON\n",
       "3                                     Holdings Cut  ORGANIZATION\n",
       "4                                 Investment Group  ORGANIZATION\n",
       "5                                           DIGGER  ORGANIZATION\n",
       "6                                           Marine        PERSON\n",
       "7                                              LLC  ORGANIZATION\n",
       "8                                           Peoria           GSP\n",
       "9                                          British           GPE\n",
       "10                                Oakmont Partners  ORGANIZATION\n",
       "11                                          Winnin           GPE\n",
       "12                                           Picks        PERSON\n",
       "13                                              Ca           GPE\n",
       "14                      Diesel Power Engine Market        PERSON\n",
       "15                                         Capital  ORGANIZATION\n",
       "16                                          Peoria           GPE\n",
       "17                                      John Irwin        PERSON\n",
       "18                                         Weather        PERSON\n",
       "19                                          Shares        PERSON"
      ]
     },
     "execution_count": 71,
     "metadata": {},
     "output_type": "execute_result"
    }
   ],
   "source": [
    "entities_df.head(20)"
   ]
  },
  {
   "cell_type": "markdown",
   "metadata": {},
   "source": [
    "### Let's get just the rows with organization in them."
   ]
  },
  {
   "cell_type": "code",
   "execution_count": 72,
   "metadata": {},
   "outputs": [],
   "source": [
    "org_token = entities_df[entities_df.Labels == \"ORGANIZATION\"].reset_index(drop=True)"
   ]
  },
  {
   "cell_type": "code",
   "execution_count": 73,
   "metadata": {
    "scrolled": true
   },
   "outputs": [
    {
     "name": "stdout",
     "output_type": "stream",
     "text": [
      "                          Entities        Labels\n",
      "0                     Holdings Cut  ORGANIZATION\n",
      "1                 Investment Group  ORGANIZATION\n",
      "2                           DIGGER  ORGANIZATION\n",
      "3                              LLC  ORGANIZATION\n",
      "4                 Oakmont Partners  ORGANIZATION\n",
      "5                          Capital  ORGANIZATION\n",
      "6                             Week  ORGANIZATION\n",
      "7                         Partners  ORGANIZATION\n",
      "8                 NOLA New Orleans  ORGANIZATION\n",
      "9                               LA  ORGANIZATION\n",
      "10                             Par  ORGANIZATION\n",
      "11                        Caterpil  ORGANIZATION\n",
      "12                Caterpillar Inc.  ORGANIZATION\n",
      "13  Very Hungry Caterpillar Rocker  ORGANIZATION\n",
      "14          FineMark National Bank  ORGANIZATION\n",
      "15                            NYSE  ORGANIZATION\n",
      "16      DJIA Market Happenings For  ORGANIZATION\n",
      "17          Recent Ratings Updates  ORGANIZATION\n",
      "18                            GSND  ORGANIZATION\n",
      "19                          PUBLIC  ORGANIZATION\n",
      "20                          Dozers  ORGANIZATION\n",
      "21                            Vetr  ORGANIZATION\n",
      "22                           SHARE  ORGANIZATION\n",
      "23                        Republic  ORGANIZATION\n",
      "24                   LLC Purchases  ORGANIZATION\n",
      "25                             CAT  ORGANIZATION\n",
      "26                    IFG Advisory  ORGANIZATION\n",
      "27       Dow Market Happenings For  ORGANIZATION\n"
     ]
    }
   ],
   "source": [
    "print(org_token)"
   ]
  },
  {
   "cell_type": "markdown",
   "metadata": {},
   "source": [
    "# Discussion\n",
    "\n",
    "We have now pulled the most commonly mentioned companies that exist with Caterpillar in the news."
   ]
  },
  {
   "cell_type": "code",
   "execution_count": null,
   "metadata": {},
   "outputs": [],
   "source": []
  }
 ],
 "metadata": {
  "kernelspec": {
   "display_name": "Python 3",
   "language": "python",
   "name": "python3"
  },
  "language_info": {
   "codemirror_mode": {
    "name": "ipython",
    "version": 3
   },
   "file_extension": ".py",
   "mimetype": "text/x-python",
   "name": "python",
   "nbconvert_exporter": "python",
   "pygments_lexer": "ipython3",
   "version": "3.6.4"
  }
 },
 "nbformat": 4,
 "nbformat_minor": 2
}
